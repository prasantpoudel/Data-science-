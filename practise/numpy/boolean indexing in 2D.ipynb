{
 "cells": [
  {
   "cell_type": "markdown",
   "id": "7248d2cc",
   "metadata": {},
   "source": [
    "## making 2D array"
   ]
  },
  {
   "cell_type": "code",
   "execution_count": 15,
   "id": "7fcdfb72",
   "metadata": {},
   "outputs": [
    {
     "data": {
      "text/plain": [
       "array([[ 4,  9, 12,  4],\n",
       "       [ 5,  5,  8,  9],\n",
       "       [ 1, 10, 12, 16]])"
      ]
     },
     "execution_count": 15,
     "metadata": {},
     "output_type": "execute_result"
    }
   ],
   "source": [
    "import numpy as np\n",
    "a=np.random.randint(1,20,(3,4))\n",
    "a"
   ]
  },
  {
   "cell_type": "code",
   "execution_count": 17,
   "id": "a52cb102",
   "metadata": {},
   "outputs": [
    {
     "name": "stdout",
     "output_type": "stream",
     "text": [
      "[[False False  True False]\n",
      " [False False False False]\n",
      " [False False  True  True]]\n"
     ]
    }
   ],
   "source": [
    "boll_arr=a>10\n",
    "print(boll_arr)"
   ]
  },
  {
   "cell_type": "code",
   "execution_count": 3,
   "id": "3c496a9a",
   "metadata": {},
   "outputs": [
    {
     "name": "stdout",
     "output_type": "stream",
     "text": [
      "[11 14 14 15 12]\n"
     ]
    }
   ],
   "source": [
    "print(a[boll_arr])"
   ]
  },
  {
   "cell_type": "code",
   "execution_count": 18,
   "id": "22422fe6",
   "metadata": {},
   "outputs": [
    {
     "data": {
      "text/plain": [
       "array([[ 4,  9, 12,  4],\n",
       "       [ 5,  5,  8,  9],\n",
       "       [ 1, 10, 12, 16]])"
      ]
     },
     "execution_count": 18,
     "metadata": {},
     "output_type": "execute_result"
    }
   ],
   "source": [
    "b=a\n",
    "b"
   ]
  },
  {
   "cell_type": "code",
   "execution_count": 19,
   "id": "2690c9d7",
   "metadata": {},
   "outputs": [
    {
     "name": "stdout",
     "output_type": "stream",
     "text": [
      "[[  4   9 100   4]\n",
      " [  5   5   8   9]\n",
      " [  1  10 100 100]]\n"
     ]
    }
   ],
   "source": [
    "b[boll_arr]=100 #updating the satisfied value  #size should be same of a and boll_arr\n",
    "print(b)"
   ]
  },
  {
   "cell_type": "code",
   "execution_count": 20,
   "id": "7275974b",
   "metadata": {},
   "outputs": [
    {
     "name": "stdout",
     "output_type": "stream",
     "text": [
      "[False False  True]\n"
     ]
    }
   ],
   "source": [
    " # how to check condn on specific row or colum\n",
    "boll_arr=b[:,3]==100  # check the all row and only 3rd column\n",
    "print(boll_arr)"
   ]
  },
  {
   "cell_type": "code",
   "execution_count": null,
   "id": "1403f7ae",
   "metadata": {},
   "outputs": [],
   "source": []
  }
 ],
 "metadata": {
  "kernelspec": {
   "display_name": "Python 3 (ipykernel)",
   "language": "python",
   "name": "python3"
  },
  "language_info": {
   "codemirror_mode": {
    "name": "ipython",
    "version": 3
   },
   "file_extension": ".py",
   "mimetype": "text/x-python",
   "name": "python",
   "nbconvert_exporter": "python",
   "pygments_lexer": "ipython3",
   "version": "3.9.7"
  }
 },
 "nbformat": 4,
 "nbformat_minor": 5
}
