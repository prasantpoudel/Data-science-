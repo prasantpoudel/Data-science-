{
 "cells": [
  {
   "cell_type": "markdown",
   "id": "a16f83d1",
   "metadata": {},
   "source": [
    "## broadcasting is used when we want to do some operation on 2 2D array which size is not same  \n",
    "## note (m*n| M*N) in one 2D array m|(M) or n|(N) value should be 1"
   ]
  },
  {
   "cell_type": "code",
   "execution_count": 1,
   "id": "b85c8afc",
   "metadata": {},
   "outputs": [
    {
     "name": "stdout",
     "output_type": "stream",
     "text": [
      "[[2 3 8]\n",
      " [9 6 8]\n",
      " [3 7 2]]\n",
      "\n",
      "[[2 2 9]\n",
      " [7 5 5]\n",
      " [3 3 9]]\n"
     ]
    }
   ],
   "source": [
    "import numpy as np\n",
    "a=np.random.randint(1,10,(3,3))\n",
    "b=np.random.randint(1,10,(3,3))\n",
    "print(a)\n",
    "print()\n",
    "print(b)"
   ]
  },
  {
   "cell_type": "code",
   "execution_count": 2,
   "id": "48e2524f",
   "metadata": {},
   "outputs": [
    {
     "name": "stdout",
     "output_type": "stream",
     "text": [
      "[[ 4  5 17]\n",
      " [16 11 13]\n",
      " [ 6 10 11]]\n"
     ]
    }
   ],
   "source": [
    "print(a+b) # for equal size of array"
   ]
  },
  {
   "cell_type": "code",
   "execution_count": 3,
   "id": "5b0bcd11",
   "metadata": {},
   "outputs": [
    {
     "name": "stdout",
     "output_type": "stream",
     "text": [
      "[[2 2 3]\n",
      " [7 2 8]\n",
      " [9 2 5]]\n",
      "\n",
      "[6 7 7]\n"
     ]
    }
   ],
   "source": [
    "# for different size\n",
    "import numpy as np\n",
    "a=np.random.randint(1,10,(3,3)) # one of m or n sholud be 1\n",
    "b=np.random.randint(1,10,(3))\n",
    "print(a)\n",
    "print()\n",
    "print(b)"
   ]
  },
  {
   "cell_type": "code",
   "execution_count": 4,
   "id": "48efaebd",
   "metadata": {},
   "outputs": [
    {
     "name": "stdout",
     "output_type": "stream",
     "text": [
      "[[ 8  9 10]\n",
      " [13  9 15]\n",
      " [15  9 12]]\n"
     ]
    }
   ],
   "source": [
    "print(a+b)"
   ]
  },
  {
   "cell_type": "code",
   "execution_count": 5,
   "id": "b7336943",
   "metadata": {},
   "outputs": [
    {
     "data": {
      "text/plain": [
       "array([[5, 9, 1, 9],\n",
       "       [8, 4, 9, 4],\n",
       "       [8, 9, 6, 8]])"
      ]
     },
     "execution_count": 5,
     "metadata": {},
     "output_type": "execute_result"
    }
   ],
   "source": [
    "b=np.random.randint(1,10,(3,4))\n",
    "b"
   ]
  },
  {
   "cell_type": "code",
   "execution_count": 6,
   "id": "67230262",
   "metadata": {},
   "outputs": [
    {
     "name": "stdout",
     "output_type": "stream",
     "text": [
      "[[5 8 8]\n",
      " [9 4 9]\n",
      " [1 9 6]\n",
      " [9 4 8]]\n"
     ]
    }
   ],
   "source": [
    "# how to transpose\n",
    "b=np.transpose(b)\n",
    "print(b)"
   ]
  },
  {
   "cell_type": "markdown",
   "id": "d8e70a67",
   "metadata": {},
   "source": [
    "## other function\n"
   ]
  },
  {
   "cell_type": "code",
   "execution_count": 7,
   "id": "7c310ac4",
   "metadata": {},
   "outputs": [
    {
     "data": {
      "text/plain": [
       "array([[0, 1],\n",
       "       [2, 3]])"
      ]
     },
     "execution_count": 7,
     "metadata": {},
     "output_type": "execute_result"
    }
   ],
   "source": [
    "a=np.array([[0,1],[2,3]])\n",
    "a"
   ]
  },
  {
   "cell_type": "code",
   "execution_count": 8,
   "id": "dc5d5629",
   "metadata": {},
   "outputs": [
    {
     "data": {
      "text/plain": [
       "array([[0, 1, 2],\n",
       "       [3, 0, 1]])"
      ]
     },
     "execution_count": 8,
     "metadata": {},
     "output_type": "execute_result"
    }
   ],
   "source": [
    "np.resize(a,(2,3)) #resize change into the desire size"
   ]
  },
  {
   "cell_type": "code",
   "execution_count": 9,
   "id": "e4f45e48",
   "metadata": {},
   "outputs": [
    {
     "data": {
      "text/plain": [
       "array([[0, 1, 2, 3]])"
      ]
     },
     "execution_count": 9,
     "metadata": {},
     "output_type": "execute_result"
    }
   ],
   "source": [
    "np.resize(a,(1,4))"
   ]
  },
  {
   "cell_type": "code",
   "execution_count": 10,
   "id": "ff9c3cab",
   "metadata": {},
   "outputs": [
    {
     "data": {
      "text/plain": [
       "array([[0, 1],\n",
       "       [2, 3],\n",
       "       [4, 5]])"
      ]
     },
     "execution_count": 10,
     "metadata": {},
     "output_type": "execute_result"
    }
   ],
   "source": [
    "a = np.arange(6).reshape((3, 2)) # reshape make desire size of array\n",
    "a\n"
   ]
  },
  {
   "cell_type": "code",
   "execution_count": 11,
   "id": "20f28b2b",
   "metadata": {},
   "outputs": [
    {
     "data": {
      "text/plain": [
       "array([[0, 1, 2],\n",
       "       [3, 4, 5]])"
      ]
     },
     "execution_count": 11,
     "metadata": {},
     "output_type": "execute_result"
    }
   ],
   "source": [
    "np.reshape(a, (2, 3)) "
   ]
  },
  {
   "cell_type": "code",
   "execution_count": null,
   "id": "4820ec64",
   "metadata": {},
   "outputs": [],
   "source": []
  }
 ],
 "metadata": {
  "kernelspec": {
   "display_name": "Python 3 (ipykernel)",
   "language": "python",
   "name": "python3"
  },
  "language_info": {
   "codemirror_mode": {
    "name": "ipython",
    "version": 3
   },
   "file_extension": ".py",
   "mimetype": "text/x-python",
   "name": "python",
   "nbconvert_exporter": "python",
   "pygments_lexer": "ipython3",
   "version": "3.9.7"
  }
 },
 "nbformat": 4,
 "nbformat_minor": 5
}
