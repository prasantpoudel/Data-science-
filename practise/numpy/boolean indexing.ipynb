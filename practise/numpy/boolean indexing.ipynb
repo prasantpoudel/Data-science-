{
 "cells": [
  {
   "cell_type": "code",
   "execution_count": 1,
   "id": "952f5f9b",
   "metadata": {},
   "outputs": [
    {
     "name": "stdout",
     "output_type": "stream",
     "text": [
      "['a' 'b' 'c' 'd']\n",
      "[ 7  8  5  9  4  9 14  6]\n"
     ]
    }
   ],
   "source": [
    "import numpy as np\n",
    "a=np.array(['a','b','c','d'])\n",
    "b=np.random.randint(1,21,8)\n",
    "print(a)\n",
    "print(b)"
   ]
  },
  {
   "cell_type": "code",
   "execution_count": 10,
   "id": "a3aea05c",
   "metadata": {},
   "outputs": [
    {
     "name": "stdout",
     "output_type": "stream",
     "text": [
      "[ True  True False  True False  True  True  True]\n"
     ]
    }
   ],
   "source": [
    "print(b>5) #return boolean value"
   ]
  },
  {
   "cell_type": "markdown",
   "id": "0df19849",
   "metadata": {},
   "source": [
    "## boolean indexing is helpful get the satisfied value present in array"
   ]
  },
  {
   "cell_type": "code",
   "execution_count": 6,
   "id": "1e54b805",
   "metadata": {},
   "outputs": [
    {
     "name": "stdout",
     "output_type": "stream",
     "text": [
      "[ True  True False  True False  True  True  True]\n",
      "[ 7  8  9  9 14  6]\n"
     ]
    }
   ],
   "source": [
    "bool_arr=b>5\n",
    "print(bool_arr)\n",
    "new_arr=b[bool_arr] # it only store boolean value which is true\n",
    "print(new_arr)"
   ]
  },
  {
   "cell_type": "code",
   "execution_count": 9,
   "id": "a0ceac5e",
   "metadata": {},
   "outputs": [
    {
     "name": "stdout",
     "output_type": "stream",
     "text": [
      "[ 7  8  9  9 14  6]\n"
     ]
    }
   ],
   "source": [
    "# another shortcut method\n",
    "new_arr=b[b>5]\n",
    "print(new_arr)"
   ]
  },
  {
   "cell_type": "code",
   "execution_count": 11,
   "id": "ce049aa2",
   "metadata": {},
   "outputs": [
    {
     "name": "stdout",
     "output_type": "stream",
     "text": [
      "[ 7  8  9  9 14  6]\n"
     ]
    }
   ],
   "source": [
    "new_arr=b[(b>5)&(b<16)] # logical operator \n",
    "print(new_arr)"
   ]
  },
  {
   "cell_type": "code",
   "execution_count": 14,
   "id": "a8a06a47",
   "metadata": {},
   "outputs": [
    {
     "name": "stdout",
     "output_type": "stream",
     "text": [
      "[ 7  8  5  9  4  9 14  6]\n"
     ]
    }
   ],
   "source": [
    "print(b)\n",
    "c=b"
   ]
  },
  {
   "cell_type": "code",
   "execution_count": 17,
   "id": "40976de3",
   "metadata": {},
   "outputs": [
    {
     "name": "stdout",
     "output_type": "stream",
     "text": [
      "[19 19 19  9  4  9 50  6]\n",
      "[50 50 50  9  4  9 50  6]\n"
     ]
    }
   ],
   "source": [
    "c[:3]=19 # this way we can update multiple element in single way\n",
    "print(c)\n",
    "c[c>10]=50\n",
    "print(c)"
   ]
  },
  {
   "cell_type": "code",
   "execution_count": 18,
   "id": "e241000c",
   "metadata": {},
   "outputs": [
    {
     "name": "stdout",
     "output_type": "stream",
     "text": [
      "[50 50 50  9  4  9 50  6]\n"
     ]
    }
   ],
   "source": [
    "print(b)"
   ]
  },
  {
   "cell_type": "code",
   "execution_count": 21,
   "id": "055ec2c8",
   "metadata": {},
   "outputs": [
    {
     "name": "stdout",
     "output_type": "stream",
     "text": [
      "(array([0, 1, 2, 3, 5, 6, 7]),)\n",
      "[50 50 50  9  9 50  6]\n"
     ]
    }
   ],
   "source": [
    "te=np.where(b>4) # return the index of value which satisfied the condn\n",
    "print(te)\n",
    "print(b[te]) # to get the satisfied value related to index"
   ]
  },
  {
   "cell_type": "markdown",
   "id": "f047824b",
   "metadata": {},
   "source": [
    "## some question\n"
   ]
  },
  {
   "cell_type": "markdown",
   "id": "cc996f95",
   "metadata": {},
   "source": [
    "## find the index of non zero element"
   ]
  },
  {
   "cell_type": "code",
   "execution_count": 22,
   "id": "79a7386e",
   "metadata": {},
   "outputs": [
    {
     "name": "stdout",
     "output_type": "stream",
     "text": [
      "(array([0, 1, 4]),)\n",
      "[1 2 4]\n"
     ]
    }
   ],
   "source": [
    "import numpy as np\n",
    "li=[1,2,0,0,4,0]\n",
    "arr=np.array(li)\n",
    "\n",
    "ind=np.where(arr>0)\n",
    "print(ind)   #index\n",
    "print(arr[ind]) # value"
   ]
  },
  {
   "cell_type": "markdown",
   "id": "4d17d46b",
   "metadata": {},
   "source": [
    "## given a arr size of 10.print the index of element multiple of 3"
   ]
  },
  {
   "cell_type": "code",
   "execution_count": 25,
   "id": "67f44822",
   "metadata": {},
   "outputs": [
    {
     "name": "stdout",
     "output_type": "stream",
     "text": [
      "(array([1, 4, 7]),)\n",
      "[ 3  9 15]\n"
     ]
    }
   ],
   "source": [
    "import numpy as np\n",
    "li=[1,3,5,7,9,11,13,15,17,19]\n",
    "arr=np.array(li)\n",
    "\n",
    "ind=np.where((arr%3)==0)\n",
    "print(ind) # for index\n",
    "print(arr[ind])"
   ]
  },
  {
   "cell_type": "markdown",
   "id": "03757502",
   "metadata": {},
   "source": [
    "##  replace the even number from numpy array with -1"
   ]
  },
  {
   "cell_type": "code",
   "execution_count": 31,
   "id": "6a5dfc44",
   "metadata": {},
   "outputs": [
    {
     "name": "stdout",
     "output_type": "stream",
     "text": [
      "[ 1  2  3  4  5  6  7  8  9 10]\n",
      "(array([1, 3, 5, 7, 9]),)\n",
      "[ 1 -1  3 -1  5 -1  7 -1  9 -1]\n"
     ]
    }
   ],
   "source": [
    "import numpy as np\n",
    "li=[1 ,2 ,3 ,4 ,5 ,6 ,7 ,8 ,9 ,10]\n",
    "arr=np.array(li)\n",
    "print(arr)\n",
    "\n",
    "ind=np.where((arr%2)==0)\n",
    "print(ind)\n",
    "arr[ind]=-1\n",
    "print(arr)"
   ]
  },
  {
   "cell_type": "markdown",
   "id": "e6f4a056",
   "metadata": {},
   "source": [
    "# replace the maximum value by 0"
   ]
  },
  {
   "cell_type": "code",
   "execution_count": 38,
   "id": "ff9c9b99",
   "metadata": {},
   "outputs": [
    {
     "name": "stdout",
     "output_type": "stream",
     "text": [
      "[ 1  2  3  4  5  6  7  8  9 10]\n",
      "10\n",
      "[1 2 3 4 5 6 7 8 9 0]\n"
     ]
    }
   ],
   "source": [
    "import numpy as np\n",
    "li=[1 ,2 ,3 ,4 ,5 ,6 ,7 ,8 ,9 ,10]\n",
    "arr=np.array(li)\n",
    "print(arr)\n",
    "\n",
    "print(arr.max())\n",
    "\n",
    "ind=arr.argmax()\n",
    "arr[ind]=0\n",
    "print(arr)"
   ]
  },
  {
   "cell_type": "markdown",
   "id": "4d6f01d2",
   "metadata": {},
   "source": [
    "## make negative number whic is between 3 and 8(both inclusive)"
   ]
  },
  {
   "cell_type": "code",
   "execution_count": 41,
   "id": "c67750a4",
   "metadata": {},
   "outputs": [
    {
     "name": "stdout",
     "output_type": "stream",
     "text": [
      "[ 1  2  3  4  5  6  7  8  9 10]\n",
      "(array([2, 3, 4, 5, 6, 7]),)\n",
      "[ 1  2 -1 -1 -1 -1 -1 -1  9 10]\n"
     ]
    }
   ],
   "source": [
    "import numpy as np\n",
    "li=[1 ,2 ,3 ,4 ,5 ,6 ,7 ,8 ,9 ,10]\n",
    "arr=np.array(li)\n",
    "print(arr)\n",
    "\n",
    "ind=np.where((arr>=3)&(arr<=8))\n",
    "print(ind)\n",
    "arr[ind]=-1\n",
    "print(arr)"
   ]
  },
  {
   "cell_type": "code",
   "execution_count": 46,
   "id": "ae78d9e3",
   "metadata": {},
   "outputs": [
    {
     "name": "stdout",
     "output_type": "stream",
     "text": [
      "['jitendra' 'snehal' 'sanjay']\n",
      "[160 174 156]\n"
     ]
    }
   ],
   "source": [
    "import numpy as np\n",
    "li1=[\"prasnt\",\"shabaz\",\"jitendra\",\"snehal\" ,\"sanjay\"]\n",
    "li2=[130,140,160,174,156]\n",
    "name=np.array(li1)\n",
    "height=np.array(li2)\n",
    "\n",
    "ind=np.where(height>155)\n",
    "print(name[ind])\n",
    "print(height[ind])"
   ]
  }
 ],
 "metadata": {
  "kernelspec": {
   "display_name": "Python 3 (ipykernel)",
   "language": "python",
   "name": "python3"
  },
  "language_info": {
   "codemirror_mode": {
    "name": "ipython",
    "version": 3
   },
   "file_extension": ".py",
   "mimetype": "text/x-python",
   "name": "python",
   "nbconvert_exporter": "python",
   "pygments_lexer": "ipython3",
   "version": "3.9.7"
  }
 },
 "nbformat": 4,
 "nbformat_minor": 5
}
