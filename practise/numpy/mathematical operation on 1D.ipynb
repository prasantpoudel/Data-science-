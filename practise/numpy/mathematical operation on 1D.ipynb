{
 "cells": [
  {
   "cell_type": "code",
   "execution_count": 3,
   "id": "77e567c8",
   "metadata": {},
   "outputs": [
    {
     "name": "stdout",
     "output_type": "stream",
     "text": [
      "[1, 2, 3, 4]\n",
      "[12  4 13  5 14]\n",
      "[ 9 14  6  1 19]\n"
     ]
    }
   ],
   "source": [
    "import numpy as np\n",
    "li=[1,2,3,4]\n",
    "a=np.random.randint(1,20,5)\n",
    "b=np.random.randint(1,20,5)\n",
    "print(li)\n",
    "print(a)\n",
    "print(b)"
   ]
  },
  {
   "cell_type": "markdown",
   "id": "df7575a4",
   "metadata": {},
   "source": [
    "## task is to add by 1 in every element"
   ]
  },
  {
   "cell_type": "code",
   "execution_count": 4,
   "id": "36ff2c44",
   "metadata": {},
   "outputs": [
    {
     "name": "stdout",
     "output_type": "stream",
     "text": [
      "[2, 3, 4, 5]\n"
     ]
    }
   ],
   "source": [
    "# in list\n",
    "li=[i+1 for i in li]\n",
    "print(li)"
   ]
  },
  {
   "cell_type": "code",
   "execution_count": 5,
   "id": "0e6f4727",
   "metadata": {},
   "outputs": [
    {
     "name": "stdout",
     "output_type": "stream",
     "text": [
      "[13  5 14  6 15]\n"
     ]
    }
   ],
   "source": [
    "# in numpy array\n",
    "a=a+1\n",
    "print(a)"
   ]
  },
  {
   "cell_type": "markdown",
   "id": "f3de834f",
   "metadata": {},
   "source": [
    "## mathematical operation"
   ]
  },
  {
   "cell_type": "code",
   "execution_count": 8,
   "id": "8c40b462",
   "metadata": {},
   "outputs": [
    {
     "name": "stdout",
     "output_type": "stream",
     "text": [
      "[13  5 14  6 15]\n",
      "[ 9 14  6  1 19]\n",
      "\n",
      "[22 19 20  7 34]\n",
      "\n",
      "[ 4 -9  8  5 -4]\n",
      "\n",
      "[117  70  84   6 285]\n"
     ]
    }
   ],
   "source": [
    "print(a)\n",
    "print(b)\n",
    "print()\n",
    "c=a+b  # just normal operation \n",
    "print(c)\n",
    "print()\n",
    "d=a-b\n",
    "print(d)\n",
    "print()\n",
    "e=a*b\n",
    "print(e)\n",
    "\n",
    "#/,//,a**b(exponent) "
   ]
  },
  {
   "cell_type": "markdown",
   "id": "4ce85ff6",
   "metadata": {},
   "source": [
    "## some function"
   ]
  },
  {
   "cell_type": "code",
   "execution_count": 14,
   "id": "e1cc5e1d",
   "metadata": {},
   "outputs": [
    {
     "name": "stdout",
     "output_type": "stream",
     "text": [
      "[13  5 14  6 15]\n",
      "53\n",
      "10.6\n",
      "5\n",
      "15\n",
      "1\n",
      "4\n"
     ]
    }
   ],
   "source": [
    "print(a)\n",
    "print(a.sum())\n",
    "print(a.mean())\n",
    "print(a.min())\n",
    "print(a.max())\n",
    "print(a.argmin()) # return the index of minimum element\n",
    "print(a.argmax())"
   ]
  },
  {
   "cell_type": "markdown",
   "id": "d27a9bd7",
   "metadata": {},
   "source": [
    "## logical operation"
   ]
  },
  {
   "cell_type": "code",
   "execution_count": 15,
   "id": "1ef4f282",
   "metadata": {},
   "outputs": [
    {
     "name": "stdout",
     "output_type": "stream",
     "text": [
      "[13  5 14  6 15]\n",
      "[ 9 14  6  1 19]\n"
     ]
    }
   ],
   "source": [
    "print(a)\n",
    "print(b)"
   ]
  },
  {
   "cell_type": "code",
   "execution_count": 16,
   "id": "b7a15246",
   "metadata": {},
   "outputs": [
    {
     "data": {
      "text/plain": [
       "array([ True, False,  True,  True, False])"
      ]
     },
     "execution_count": 16,
     "metadata": {},
     "output_type": "execute_result"
    }
   ],
   "source": [
    "a>b  #compare the element is same index and return boolean value\n",
    "# a<b,a==b,a<=b all "
   ]
  },
  {
   "cell_type": "code",
   "execution_count": 17,
   "id": "b9b0f15d",
   "metadata": {},
   "outputs": [
    {
     "data": {
      "text/plain": [
       "array([False,  True, False, False,  True])"
      ]
     },
     "execution_count": 17,
     "metadata": {},
     "output_type": "execute_result"
    }
   ],
   "source": [
    "a<=b"
   ]
  },
  {
   "cell_type": "markdown",
   "id": "0a1da346",
   "metadata": {},
   "source": [
    "## logical statement"
   ]
  },
  {
   "cell_type": "code",
   "execution_count": 20,
   "id": "af31d959",
   "metadata": {},
   "outputs": [
    {
     "name": "stdout",
     "output_type": "stream",
     "text": [
      "[ True  True  True  True  True]\n",
      "[ True  True  True  True  True]\n"
     ]
    }
   ],
   "source": [
    "print(np.logical_or(a,b))  # for non zero value it return True\n",
    "print(np.logical_and(a,b))  "
   ]
  },
  {
   "cell_type": "code",
   "execution_count": 23,
   "id": "8a18681a",
   "metadata": {},
   "outputs": [
    {
     "name": "stdout",
     "output_type": "stream",
     "text": [
      "[13  5  0  6 15]\n",
      "[False False  True False False]\n"
     ]
    }
   ],
   "source": [
    "a[2]=0\n",
    "print(a)\n",
    "print(np.logical_not(a)) # for zero value return True"
   ]
  }
 ],
 "metadata": {
  "kernelspec": {
   "display_name": "Python 3 (ipykernel)",
   "language": "python",
   "name": "python3"
  },
  "language_info": {
   "codemirror_mode": {
    "name": "ipython",
    "version": 3
   },
   "file_extension": ".py",
   "mimetype": "text/x-python",
   "name": "python",
   "nbconvert_exporter": "python",
   "pygments_lexer": "ipython3",
   "version": "3.9.7"
  }
 },
 "nbformat": 4,
 "nbformat_minor": 5
}
