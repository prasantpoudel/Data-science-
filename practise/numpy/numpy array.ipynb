{
 "cells": [
  {
   "cell_type": "markdown",
   "id": "c59b043e",
   "metadata": {},
   "source": [
    "## how to create array using numpy"
   ]
  },
  {
   "cell_type": "code",
   "execution_count": 2,
   "id": "b9649042",
   "metadata": {},
   "outputs": [
    {
     "data": {
      "text/plain": [
       "array([0, 1, 2, 3, 4, 5, 6, 7, 8, 9])"
      ]
     },
     "execution_count": 2,
     "metadata": {},
     "output_type": "execute_result"
    }
   ],
   "source": [
    "import numpy as np\n",
    "a=np.arange(10) #default step is one\n",
    "a"
   ]
  },
  {
   "cell_type": "code",
   "execution_count": 3,
   "id": "9b8c4c1a",
   "metadata": {},
   "outputs": [
    {
     "data": {
      "text/plain": [
       "array([2, 4, 6, 8])"
      ]
     },
     "execution_count": 3,
     "metadata": {},
     "output_type": "execute_result"
    }
   ],
   "source": [
    "import numpy as np\n",
    "a=np.arange(2,10,2) \n",
    "a"
   ]
  },
  {
   "cell_type": "code",
   "execution_count": 4,
   "id": "638352fb",
   "metadata": {},
   "outputs": [
    {
     "data": {
      "text/plain": [
       "array([ 2.        ,  2.16326531,  2.32653061,  2.48979592,  2.65306122,\n",
       "        2.81632653,  2.97959184,  3.14285714,  3.30612245,  3.46938776,\n",
       "        3.63265306,  3.79591837,  3.95918367,  4.12244898,  4.28571429,\n",
       "        4.44897959,  4.6122449 ,  4.7755102 ,  4.93877551,  5.10204082,\n",
       "        5.26530612,  5.42857143,  5.59183673,  5.75510204,  5.91836735,\n",
       "        6.08163265,  6.24489796,  6.40816327,  6.57142857,  6.73469388,\n",
       "        6.89795918,  7.06122449,  7.2244898 ,  7.3877551 ,  7.55102041,\n",
       "        7.71428571,  7.87755102,  8.04081633,  8.20408163,  8.36734694,\n",
       "        8.53061224,  8.69387755,  8.85714286,  9.02040816,  9.18367347,\n",
       "        9.34693878,  9.51020408,  9.67346939,  9.83673469, 10.        ])"
      ]
     },
     "execution_count": 4,
     "metadata": {},
     "output_type": "execute_result"
    }
   ],
   "source": [
    "import numpy as np\n",
    "a=np.linspace(2,10) #it will get defalut 50 value which are equally difference(which is set by system)\n",
    "a"
   ]
  },
  {
   "cell_type": "code",
   "execution_count": 5,
   "id": "64cc0dec",
   "metadata": {},
   "outputs": [
    {
     "name": "stdout",
     "output_type": "stream",
     "text": [
      "-0.16326530612244916\n",
      "-0.16326530612244872\n"
     ]
    }
   ],
   "source": [
    "print(a[0]-a[1])\n",
    "print(a[10]-a[11])"
   ]
  },
  {
   "cell_type": "code",
   "execution_count": 8,
   "id": "08868eb9",
   "metadata": {},
   "outputs": [
    {
     "data": {
      "text/plain": [
       "array([ 2,  4,  6,  8, 10])"
      ]
     },
     "execution_count": 8,
     "metadata": {},
     "output_type": "execute_result"
    }
   ],
   "source": [
    "import numpy as np\n",
    "a=np.linspace(2,10,5,dtype=int) # start,end,number of value required # in nature it give float\n",
    "a   # 10 is enclusive not like range"
   ]
  },
  {
   "cell_type": "markdown",
   "id": "cdc5a6c7",
   "metadata": {},
   "source": [
    "## how to print specific number after decimal"
   ]
  },
  {
   "cell_type": "code",
   "execution_count": 15,
   "id": "03576217",
   "metadata": {},
   "outputs": [
    {
     "data": {
      "text/plain": [
       "array([0.  , 0.62, 1.25, 1.88, 2.5 , 3.12, 3.75, 4.38, 5.  ])"
      ]
     },
     "execution_count": 15,
     "metadata": {},
     "output_type": "execute_result"
    }
   ],
   "source": [
    "import numpy as np\n",
    "a=np.linspace(0,5,9)\n",
    "np.set_printoptions(precision=2) # this help to print specific number after decimal\n",
    "a"
   ]
  },
  {
   "cell_type": "code",
   "execution_count": 9,
   "id": "68cb01ae",
   "metadata": {},
   "outputs": [
    {
     "data": {
      "text/plain": [
       "array([2, 3, 5, 6, 8])"
      ]
     },
     "execution_count": 9,
     "metadata": {},
     "output_type": "execute_result"
    }
   ],
   "source": [
    "import numpy as np\n",
    "a=np.linspace(2,10,5,dtype=int,endpoint=False) #this make end value exclude for computation\n",
    "a"
   ]
  },
  {
   "cell_type": "markdown",
   "id": "1c257ab3",
   "metadata": {},
   "source": [
    "## using np.arange() we can control on step value but in np.linspace() we can cantrol on sample value\n",
    "## in np.arrage() end value is not print but in np.linspace() end value will be print by default"
   ]
  },
  {
   "cell_type": "code",
   "execution_count": 10,
   "id": "d3de496e",
   "metadata": {},
   "outputs": [
    {
     "data": {
      "text/plain": [
       "array([[1., 0., 0.],\n",
       "       [0., 1., 0.],\n",
       "       [0., 0., 1.]])"
      ]
     },
     "execution_count": 10,
     "metadata": {},
     "output_type": "execute_result"
    }
   ],
   "source": [
    "b=np.identity(3) # it will give 3*3 matrix with identity value on diagonal # we can pass only one argument m and it give m*m matrix\n",
    "b"
   ]
  },
  {
   "cell_type": "code",
   "execution_count": 11,
   "id": "bf701e33",
   "metadata": {},
   "outputs": [
    {
     "data": {
      "text/plain": [
       "array([[1., 0., 0., 0., 0.],\n",
       "       [0., 1., 0., 0., 0.],\n",
       "       [0., 0., 1., 0., 0.],\n",
       "       [0., 0., 0., 1., 0.],\n",
       "       [0., 0., 0., 0., 1.]])"
      ]
     },
     "execution_count": 11,
     "metadata": {},
     "output_type": "execute_result"
    }
   ],
   "source": [
    "b=np.identity(5) # it will give 3*3 matrix with identity value on diagonal\n",
    "b"
   ]
  },
  {
   "cell_type": "code",
   "execution_count": 12,
   "id": "ae9ee321",
   "metadata": {},
   "outputs": [
    {
     "data": {
      "text/plain": [
       "array([[1., 0., 0.],\n",
       "       [0., 1., 0.],\n",
       "       [0., 0., 1.]])"
      ]
     },
     "execution_count": 12,
     "metadata": {},
     "output_type": "execute_result"
    }
   ],
   "source": [
    "b=np.eye(3) #same as identity\n",
    "b"
   ]
  },
  {
   "cell_type": "code",
   "execution_count": 13,
   "id": "d0a56fb7",
   "metadata": {},
   "outputs": [
    {
     "data": {
      "text/plain": [
       "array([[1., 0., 0., 0.],\n",
       "       [0., 1., 0., 0.],\n",
       "       [0., 0., 1., 0.]])"
      ]
     },
     "execution_count": 13,
     "metadata": {},
     "output_type": "execute_result"
    }
   ],
   "source": [
    "b=np.eye(3,4) #we can pass two argument which is M*N matrix\n",
    "b"
   ]
  },
  {
   "cell_type": "code",
   "execution_count": 14,
   "id": "5dad75da",
   "metadata": {},
   "outputs": [
    {
     "data": {
      "text/plain": [
       "array([0.81174099, 0.16419649, 0.82407208])"
      ]
     },
     "execution_count": 14,
     "metadata": {},
     "output_type": "execute_result"
    }
   ],
   "source": [
    "b=np.random.rand(3) # give 3 size of array with random value from range 0-1\n",
    "b "
   ]
  },
  {
   "cell_type": "code",
   "execution_count": 16,
   "id": "6b545b74",
   "metadata": {},
   "outputs": [
    {
     "data": {
      "text/plain": [
       "array([3.81895194, 7.67254534, 8.56083212])"
      ]
     },
     "execution_count": 16,
     "metadata": {},
     "output_type": "execute_result"
    }
   ],
   "source": [
    "b=np.random.rand(3)*10 # it will generate random  3 value range from 0-10 using (*10)\n",
    "b "
   ]
  },
  {
   "cell_type": "code",
   "execution_count": 15,
   "id": "c7b676ab",
   "metadata": {},
   "outputs": [
    {
     "data": {
      "text/plain": [
       "array([[0.27244847, 0.16783609],\n",
       "       [0.9848628 , 0.43383162],\n",
       "       [0.25092507, 0.18150491]])"
      ]
     },
     "execution_count": 15,
     "metadata": {},
     "output_type": "execute_result"
    }
   ],
   "source": [
    "b=np.random.rand(3,2)  #for 2D matrix\n",
    "b "
   ]
  },
  {
   "cell_type": "code",
   "execution_count": 19,
   "id": "46a7570f",
   "metadata": {},
   "outputs": [
    {
     "data": {
      "text/plain": [
       "array([4, 0, 2, 0, 4, 1, 0, 2])"
      ]
     },
     "execution_count": 19,
     "metadata": {},
     "output_type": "execute_result"
    }
   ],
   "source": [
    "b=np.random.randint(5,size=8)  #where 5 means int value from 0-4 and size=8 means 8 value\n",
    "b "
   ]
  },
  {
   "cell_type": "code",
   "execution_count": 4,
   "id": "6c60490f",
   "metadata": {},
   "outputs": [
    {
     "name": "stdout",
     "output_type": "stream",
     "text": [
      "[[0 2 1 0]\n",
      " [3 2 4 0]\n",
      " [1 0 4 3]]\n"
     ]
    }
   ],
   "source": [
    "import numpy as np\n",
    "b=np.random.randint(5,size=(3,4))  #where 5 means int value and(3,4) means matrix\n",
    "print(b)"
   ]
  },
  {
   "cell_type": "code",
   "execution_count": null,
   "id": "869ad097",
   "metadata": {},
   "outputs": [],
   "source": []
  }
 ],
 "metadata": {
  "kernelspec": {
   "display_name": "Python 3 (ipykernel)",
   "language": "python",
   "name": "python3"
  },
  "language_info": {
   "codemirror_mode": {
    "name": "ipython",
    "version": 3
   },
   "file_extension": ".py",
   "mimetype": "text/x-python",
   "name": "python",
   "nbconvert_exporter": "python",
   "pygments_lexer": "ipython3",
   "version": "3.9.7"
  }
 },
 "nbformat": 4,
 "nbformat_minor": 5
}
