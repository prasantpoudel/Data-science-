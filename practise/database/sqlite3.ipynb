{
 "cells": [
  {
   "cell_type": "code",
   "execution_count": 1,
   "id": "ec6b8731",
   "metadata": {},
   "outputs": [],
   "source": [
    "import sqlite3"
   ]
  },
  {
   "cell_type": "code",
   "execution_count": 3,
   "id": "67a59e94",
   "metadata": {},
   "outputs": [
    {
     "data": {
      "text/plain": [
       "<sqlite3.Connection at 0x7f88f1255990>"
      ]
     },
     "execution_count": 3,
     "metadata": {},
     "output_type": "execute_result"
    }
   ],
   "source": [
    "db=sqlite3.connect(\"IMDB.sqlite\") # to conncet the sqlite \n",
    "db"
   ]
  },
  {
   "cell_type": "code",
   "execution_count": 4,
   "id": "2f90283d",
   "metadata": {},
   "outputs": [
    {
     "data": {
      "text/plain": [
       "<sqlite3.Cursor at 0x7f88b0036b20>"
      ]
     },
     "execution_count": 4,
     "metadata": {},
     "output_type": "execute_result"
    }
   ],
   "source": [
    "cur=db.cursor() # to acess the db we need to have cursor object\n",
    "cur"
   ]
  },
  {
   "cell_type": "code",
   "execution_count": 5,
   "id": "cfde3f15",
   "metadata": {},
   "outputs": [
    {
     "data": {
      "text/plain": [
       "<sqlite3.Cursor at 0x7f88b0036b20>"
      ]
     },
     "execution_count": 5,
     "metadata": {},
     "output_type": "execute_result"
    }
   ],
   "source": [
    "sql_query='Create table Student(rollnumber int primary key,name text,age int)'\n",
    "cur.execute(sql_query) # to execute the query"
   ]
  },
  {
   "cell_type": "code",
   "execution_count": 8,
   "id": "3e8933a8",
   "metadata": {},
   "outputs": [
    {
     "data": {
      "text/plain": [
       "<sqlite3.Cursor at 0x7f88b0036b20>"
      ]
     },
     "execution_count": 8,
     "metadata": {},
     "output_type": "execute_result"
    }
   ],
   "source": [
    "cur.execute('Insert into Student values(101,\"prasant\",21)') # to insert into data base"
   ]
  },
  {
   "cell_type": "code",
   "execution_count": 9,
   "id": "40443487",
   "metadata": {},
   "outputs": [],
   "source": [
    "db.commit()"
   ]
  },
  {
   "cell_type": "code",
   "execution_count": 11,
   "id": "cbe4e4e8",
   "metadata": {},
   "outputs": [],
   "source": [
    "rollnumber=102\n",
    "name=\"snehal\"\n",
    "age=22\n",
    "cur.execute('Insert into Student values(?,?,?)',(rollnumber,name,age))\n",
    "db.commit()"
   ]
  },
  {
   "cell_type": "code",
   "execution_count": 16,
   "id": "e913692d",
   "metadata": {},
   "outputs": [],
   "source": [
    "value=[(107,'sanjay',20),(108,'jitu',21),(109,'sandy',23)]\n",
    "cur.executemany('Insert into Student values(?,?,?)',value)  # to insert multiple value at a time\n",
    "db.commit()"
   ]
  },
  {
   "cell_type": "code",
   "execution_count": null,
   "id": "f2cbc031",
   "metadata": {},
   "outputs": [],
   "source": [
    "cur.execute('Update Student set age=19') \n",
    "db.commit()"
   ]
  },
  {
   "cell_type": "code",
   "execution_count": 22,
   "id": "5a5b9c92",
   "metadata": {},
   "outputs": [
    {
     "data": {
      "text/plain": [
       "<sqlite3.Cursor at 0x7f88b0036b20>"
      ]
     },
     "execution_count": 22,
     "metadata": {},
     "output_type": "execute_result"
    }
   ],
   "source": [
    "cur.execute('select * from Student')"
   ]
  },
  {
   "cell_type": "code",
   "execution_count": 28,
   "id": "e5abb1f8",
   "metadata": {},
   "outputs": [
    {
     "name": "stdout",
     "output_type": "stream",
     "text": [
      "(102, 'snehal', 22)\n",
      "(103, 'sanjay', 20)\n",
      "(104, 'jitu', 21)\n",
      "(105, 'sandy', 23)\n",
      "(107, 'sanjay', 20)\n",
      "(108, 'jitu', 21)\n",
      "(109, 'sandy', 23)\n"
     ]
    }
   ],
   "source": [
    "for row in cur:\n",
    "    print(row)"
   ]
  },
  {
   "cell_type": "code",
   "execution_count": 29,
   "id": "083a19a3",
   "metadata": {},
   "outputs": [
    {
     "data": {
      "text/plain": [
       "(101, 'prasant', 21)"
      ]
     },
     "execution_count": 29,
     "metadata": {},
     "output_type": "execute_result"
    }
   ],
   "source": [
    "cur.execute('select * from Student')\n",
    "cur.fetchone()"
   ]
  },
  {
   "cell_type": "code",
   "execution_count": 32,
   "id": "609c3f21",
   "metadata": {},
   "outputs": [
    {
     "name": "stdout",
     "output_type": "stream",
     "text": [
      "[(101, 'prasant', 21), (102, 'snehal', 22), (103, 'sanjay', 20)]\n"
     ]
    }
   ],
   "source": [
    "cur.execute('select * from Student')\n",
    "print(cur.fetchmany(3)) # if we didn't pass number it will 1 row only"
   ]
  },
  {
   "cell_type": "code",
   "execution_count": 31,
   "id": "1370683e",
   "metadata": {},
   "outputs": [
    {
     "data": {
      "text/plain": [
       "[(101, 'prasant', 21),\n",
       " (102, 'snehal', 22),\n",
       " (103, 'sanjay', 20),\n",
       " (104, 'jitu', 21),\n",
       " (105, 'sandy', 23),\n",
       " (107, 'sanjay', 20),\n",
       " (108, 'jitu', 21),\n",
       " (109, 'sandy', 23)]"
      ]
     },
     "execution_count": 31,
     "metadata": {},
     "output_type": "execute_result"
    }
   ],
   "source": [
    "cur.execute('select * from Student')\n",
    "cur.fetchall()"
   ]
  },
  {
   "cell_type": "code",
   "execution_count": null,
   "id": "9db0b23a",
   "metadata": {},
   "outputs": [],
   "source": []
  }
 ],
 "metadata": {
  "kernelspec": {
   "display_name": "Python 3 (ipykernel)",
   "language": "python",
   "name": "python3"
  },
  "language_info": {
   "codemirror_mode": {
    "name": "ipython",
    "version": 3
   },
   "file_extension": ".py",
   "mimetype": "text/x-python",
   "name": "python",
   "nbconvert_exporter": "python",
   "pygments_lexer": "ipython3",
   "version": "3.9.7"
  }
 },
 "nbformat": 4,
 "nbformat_minor": 5
}
