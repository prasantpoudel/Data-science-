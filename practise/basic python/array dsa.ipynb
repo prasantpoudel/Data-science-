{
 "cells": [
  {
   "cell_type": "markdown",
   "id": "761cff4b",
   "metadata": {},
   "source": [
    "## Write a program to reverse an array or string\n"
   ]
  },
  {
   "cell_type": "code",
   "execution_count": 17,
   "id": "fd651d11",
   "metadata": {},
   "outputs": [
    {
     "name": "stdout",
     "output_type": "stream",
     "text": [
      "[1, 2, 4, 5, 6, 7, 8, 9]\n",
      "reseverse list is\n",
      "[9, 8, 7, 6, 5, 4, 2, 1]\n"
     ]
    }
   ],
   "source": [
    "def reverlist(a,start,end):\n",
    "    while start>=end:\n",
    "        return\n",
    "    a[start],a[end]=a[end],a[start]\n",
    "    reverlist(a,start+1,end-1)\n",
    "    \n",
    "a=[1,2,4,5,6,7,8,9]\n",
    "print(a)\n",
    "reverlist(a,0,7)\n",
    "print(\"reseverse list is\")\n",
    "print(a)"
   ]
  },
  {
   "cell_type": "markdown",
   "id": "d44e4a1a",
   "metadata": {},
   "source": [
    "## Maximum and minimum of an array using minimum number of comparisons\n"
   ]
  },
  {
   "cell_type": "code",
   "execution_count": 18,
   "id": "22a30aa5",
   "metadata": {},
   "outputs": [
    {
     "name": "stdout",
     "output_type": "stream",
     "text": [
      "The minimum element in the list is 1\n",
      "The maximum element in the list is 3000\n"
     ]
    }
   ],
   "source": [
    "def findmaxmin(arr):\n",
    "    # initialize minimum and maximum element with the first element\n",
    "    max=min=arr[0]\n",
    "     # do for each element in the list\n",
    "        \n",
    "    for i in range (1,len(arr)):\n",
    "         # if the current element is greater than the maximum found so far\n",
    "            \n",
    "        if arr[i]>max:\n",
    "            max=arr[i]\n",
    "         # if the current element is smaller than the minimum found so far\n",
    "        \n",
    "        elif arr[i]<min:\n",
    "            min=arr[i]\n",
    "            \n",
    "    print('The minimum element in the list is', min)\n",
    "    print('The maximum element in the list is', max)\n",
    "        \n",
    "\n",
    "arr = [1000, 11, 445, 1, 330, 3000]\n",
    "findmaxmin(arr)\n"
   ]
  },
  {
   "cell_type": "markdown",
   "id": "2a874041",
   "metadata": {},
   "source": [
    "## Given an array arr[] and an integer K where K is smaller than size of array, the task is to find the Kth smallest element in the given array. It is given that all array elements are distinct.\n"
   ]
  },
  {
   "cell_type": "code",
   "execution_count": 25,
   "id": "f1dbe1ca",
   "metadata": {},
   "outputs": [
    {
     "name": "stdout",
     "output_type": "stream",
     "text": [
      "K'th smallest element is 5\n"
     ]
    }
   ],
   "source": [
    "def kthSmallest(arr, k):\n",
    " \n",
    "    # Sort the given array\n",
    "    arr.sort()\n",
    " \n",
    "    # Return k'th element in the\n",
    "    # sorted array\n",
    "    return arr[k-1]\n",
    " \n",
    "# Driver code\n",
    "\n",
    "arr = [12, 3, 5, 7, 19]\n",
    "k = 2\n",
    "print(\"K'th smallest element is\",\n",
    "        kthSmallest(arr, k))"
   ]
  },
  {
   "cell_type": "markdown",
   "id": "e212c4f1",
   "metadata": {},
   "source": [
    "## Given an array of size N containing only 0s, 1s, and 2s; sort the array in ascending order."
   ]
  },
  {
   "cell_type": "code",
   "execution_count": 29,
   "id": "fbd64b22",
   "metadata": {},
   "outputs": [
    {
     "name": "stdout",
     "output_type": "stream",
     "text": [
      "Array after segregation :\n",
      "0 0 0 0 0 1 1 1 1 1 2 2 "
     ]
    }
   ],
   "source": [
    "def sort012( a, arr_size):\n",
    "    lo = 0\n",
    "    hi = arr_size - 1\n",
    "    mid = 0\n",
    "    while mid <= hi:\n",
    "        if a[mid] == 0:\n",
    "            a[lo], a[mid] = a[mid], a[lo]\n",
    "            lo = lo + 1\n",
    "            mid = mid + 1\n",
    "        elif a[mid] == 1:\n",
    "            mid = mid + 1\n",
    "        else:\n",
    "            a[mid], a[hi] = a[hi], a[mid]\n",
    "            hi = hi - 1\n",
    "    return a\n",
    "     \n",
    "# Function to print array\n",
    "def printArray( a):\n",
    "    for k in a:\n",
    "        print(k,end=' ')\n",
    "   \n",
    "\n",
    "arr = [0, 1, 1, 0, 1, 2, 1, 2, 0, 0, 0, 1]\n",
    "arr_size = len(arr)\n",
    "arr = sort012( arr, arr_size)\n",
    "print (\"Array after segregation :\",)\n",
    "printArray(arr)"
   ]
  },
  {
   "cell_type": "markdown",
   "id": "02d1ca3f",
   "metadata": {},
   "source": [
    "## Move all negative numbers to beginning and positive to end with constant extra space"
   ]
  },
  {
   "cell_type": "code",
   "execution_count": 30,
   "id": "b25a9679",
   "metadata": {},
   "outputs": [
    {
     "name": "stdout",
     "output_type": "stream",
     "text": [
      "[-1, -3, -7, 4, 5, 6, 2, 8, 9]\n"
     ]
    }
   ],
   "source": [
    "def rearrange(arr, n ) :\n",
    "    j = 0\n",
    "    for i in range(0, n) :\n",
    "        if (arr[i] < 0) :\n",
    "            temp = arr[i]\n",
    "            arr[i] = arr[j]\n",
    "            arr[j]= temp\n",
    "            j = j + 1\n",
    "    print(arr)\n",
    " \n",
    "# Driver code\n",
    "arr = [-1, 2, -3, 4, 5, 6, -7, 8, 9]\n",
    "n = len(arr)\n",
    "rearrange(arr, n)\n",
    " "
   ]
  },
  {
   "cell_type": "markdown",
   "id": "8db63274",
   "metadata": {},
   "source": [
    "## Given two arrays a[] and b[] of size n and m respectively. The task is to find union between these two arrays."
   ]
  },
  {
   "cell_type": "code",
   "execution_count": 31,
   "id": "853ac160",
   "metadata": {},
   "outputs": [
    {
     "name": "stdout",
     "output_type": "stream",
     "text": [
      "Number of elements after union operation:  9 \n",
      "The union set of both arrays is :\n",
      "{1, 2, 3, 4, 5, 6, 7, 8, 9}"
     ]
    }
   ],
   "source": [
    "def getUnion(a, n, b, m):\n",
    " \n",
    "    # Defining set container s\n",
    "    s =set();\n",
    " \n",
    "    # Inserting array elements in s\n",
    "    for i in range(n):\n",
    "        s.add(a[i]);\n",
    " \n",
    "    for i in range(m):\n",
    "        s.add(b[i]);\n",
    "    print(\"Number of elements after union operation: \" , len(s) , \"\")\n",
    "    print(\"The union set of both arrays is :\" + \"\")\n",
    " \n",
    "    print(s, end=\"\"); # s will contain only distinct\n",
    "    # elements from array a and b\n",
    " \n",
    "\n",
    "a = [ 1, 2, 5, 6, 2, 3, 5, 7, 3 ]\n",
    "b = [ 2, 4, 5, 6, 8, 9, 4, 6, 5, 4 ]\n",
    " \n",
    "getUnion(a, 9, b, 10)"
   ]
  },
  {
   "cell_type": "markdown",
   "id": "35ddd9e4",
   "metadata": {},
   "source": [
    "## Given an array, rotate the array by one position in clock-wise direction.\n",
    "Example 1:\n",
    "\n",
    "Input:\n",
    "N = 5\n",
    "A[] = {1, 2, 3, 4, 5}\n",
    "Output:\n",
    "5 1 2 3 4"
   ]
  },
  {
   "cell_type": "code",
   "execution_count": 11,
   "id": "630b456a",
   "metadata": {},
   "outputs": [
    {
     "name": "stdout",
     "output_type": "stream",
     "text": [
      "Given array is\n",
      "1 2 3 4 5 \n",
      "Rotated array is\n",
      "5 1 2 3 4 "
     ]
    }
   ],
   "source": [
    "def rotate(arr, n):\n",
    "    x = arr[n - 1]\n",
    "     \n",
    "    for i in range(n - 1, 0, -1):\n",
    "        arr[i] = arr[i - 1];\n",
    "         \n",
    "    arr[0] = x;\n",
    " \n",
    " \n",
    "# Driver function\n",
    "arr= [1, 2, 3, 4, 5]\n",
    "n = len(arr)\n",
    "print (\"Given array is\")\n",
    "for i in range(0, n):\n",
    "    print (arr[i], end = ' ')\n",
    " \n",
    "rotate(arr, n)\n",
    " \n",
    "print (\"\\nRotated array is\")\n",
    "for i in range(0, n):\n",
    "    print (arr[i], end = ' ') "
   ]
  },
  {
   "cell_type": "markdown",
   "id": "728a5d95",
   "metadata": {},
   "source": [
    "## Given an array Arr[] of N integers. Find the contiguous sub-array(containing at least one number) which has the maximum sum and return its sum.\n",
    "Input:\n",
    "N = 5\n",
    "Arr[] = {1,2,3,-2,5}\n",
    "Output:\n",
    "9\n",
    "Explanation:\n",
    "Max subarray sum is 9\n",
    "of elements (1, 2, 3, -2, 5) which \n",
    "is a contiguous subarray."
   ]
  },
  {
   "cell_type": "code",
   "execution_count": null,
   "id": "9d1a2fd4",
   "metadata": {},
   "outputs": [],
   "source": []
  }
 ],
 "metadata": {
  "kernelspec": {
   "display_name": "Python 3 (ipykernel)",
   "language": "python",
   "name": "python3"
  },
  "language_info": {
   "codemirror_mode": {
    "name": "ipython",
    "version": 3
   },
   "file_extension": ".py",
   "mimetype": "text/x-python",
   "name": "python",
   "nbconvert_exporter": "python",
   "pygments_lexer": "ipython3",
   "version": "3.9.7"
  }
 },
 "nbformat": 4,
 "nbformat_minor": 5
}
