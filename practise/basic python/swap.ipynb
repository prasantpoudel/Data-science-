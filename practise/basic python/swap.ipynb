{
 "cells": [
  {
   "cell_type": "markdown",
   "id": "ad7c1ccb",
   "metadata": {},
   "source": [
    "## swaping the each neighbour number"
   ]
  },
  {
   "cell_type": "code",
   "execution_count": 15,
   "id": "5c8f0bd2",
   "metadata": {},
   "outputs": [
    {
     "name": "stdout",
     "output_type": "stream",
     "text": [
      "[2, 1, 4, 3, 8]\n"
     ]
    }
   ],
   "source": [
    "def swap(l):\n",
    "#     for i in range(0,len(l)-1,2):\n",
    "#         l[i],l[i+1]=l[i+1],l[i]\n",
    "#     print(l)\n",
    "    i=0\n",
    "    while i+1<len(l):\n",
    "        l[i],l[i+1]=l[i+1],l[i]\n",
    "        i+=2\n",
    "        \n",
    "l=[1,2,3,4,8]\n",
    "swap(l)\n",
    "print(l)"
   ]
  },
  {
   "cell_type": "code",
   "execution_count": null,
   "id": "3f4972a3",
   "metadata": {},
   "outputs": [],
   "source": []
  }
 ],
 "metadata": {
  "kernelspec": {
   "display_name": "Python 3 (ipykernel)",
   "language": "python",
   "name": "python3"
  },
  "language_info": {
   "codemirror_mode": {
    "name": "ipython",
    "version": 3
   },
   "file_extension": ".py",
   "mimetype": "text/x-python",
   "name": "python",
   "nbconvert_exporter": "python",
   "pygments_lexer": "ipython3",
   "version": "3.9.7"
  }
 },
 "nbformat": 4,
 "nbformat_minor": 5
}
