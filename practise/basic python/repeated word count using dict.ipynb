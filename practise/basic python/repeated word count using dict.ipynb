{
 "cells": [
  {
   "cell_type": "markdown",
   "id": "7b921513",
   "metadata": {},
   "source": [
    "## using dict finding the repeated word"
   ]
  },
  {
   "cell_type": "code",
   "execution_count": 5,
   "id": "9fbb6724",
   "metadata": {},
   "outputs": [
    {
     "name": "stdout",
     "output_type": "stream",
     "text": [
      "['hello', 'my', 'name', 'is', 'hello']\n",
      "{'hello': 2, 'my': 1, 'name': 1, 'is': 1}\n"
     ]
    }
   ],
   "source": [
    "s=\"hello my name is hello\"\n",
    "word=s.split()\n",
    "print(word)\n",
    "d={}\n",
    "for w in word:\n",
    "    if w in d:\n",
    "        d[w]=d[w]+1\n",
    "    else:\n",
    "        d[w]=1\n",
    "\n",
    "print(d)"
   ]
  },
  {
   "cell_type": "code",
   "execution_count": 11,
   "id": "bf6ff95a",
   "metadata": {},
   "outputs": [
    {
     "name": "stdout",
     "output_type": "stream",
     "text": [
      "{'hello': 14, 'my': 7, 'name': 7, 'is': 7}\n",
      "hello\n"
     ]
    }
   ],
   "source": [
    "#another method\n",
    "for w in word:\n",
    "        d[w]=d.get(w,0)+1\n",
    "   \n",
    "print(d)\n",
    "find_max=max(d,key=d.get)\n",
    "print(find_max)"
   ]
  },
  {
   "cell_type": "markdown",
   "id": "c6b3b379",
   "metadata": {},
   "source": [
    "## main code"
   ]
  },
  {
   "cell_type": "code",
   "execution_count": 13,
   "id": "2df9e950",
   "metadata": {},
   "outputs": [
    {
     "name": "stdout",
     "output_type": "stream",
     "text": [
      "name\n"
     ]
    }
   ],
   "source": [
    "def repeated(s):\n",
    "    word=s.split()\n",
    "    d={}\n",
    "    for w in word:\n",
    "        d[w]=d.get(w,0)+1\n",
    "    find_max=max(d,key=d.get)\n",
    "    return find_max\n",
    "\n",
    "s=\"hello mya name name\"\n",
    "print(repeated(s))"
   ]
  },
  {
   "cell_type": "markdown",
   "id": "75892b45",
   "metadata": {},
   "source": [
    "## You are given an array of integers that contain numbers in random order. Write a program to find and return the number which occurs the maximum times in the given input.\n",
    "Sample Input 1 :\n",
    "13\n",
    "2 12 2 11 12 2 1 2 2 11 12 2 6 \n",
    "Sample Output 1 :\n",
    "2"
   ]
  },
  {
   "cell_type": "code",
   "execution_count": 22,
   "id": "12e5046b",
   "metadata": {},
   "outputs": [
    {
     "name": "stdout",
     "output_type": "stream",
     "text": [
      "2\n"
     ]
    }
   ],
   "source": [
    "arr=[2,12,2,11,12,2,1,2,2,11,12,2,6]\n",
    "def max_cnt(arr):\n",
    "    dic={}\n",
    "    for i in arr:\n",
    "        dic[i]=dic.get(i,0)+1\n",
    "    return max(dic,key=dic.get)\n",
    "print(max_cnt(arr))"
   ]
  }
 ],
 "metadata": {
  "kernelspec": {
   "display_name": "Python 3 (ipykernel)",
   "language": "python",
   "name": "python3"
  },
  "language_info": {
   "codemirror_mode": {
    "name": "ipython",
    "version": 3
   },
   "file_extension": ".py",
   "mimetype": "text/x-python",
   "name": "python",
   "nbconvert_exporter": "python",
   "pygments_lexer": "ipython3",
   "version": "3.9.7"
  }
 },
 "nbformat": 4,
 "nbformat_minor": 5
}
