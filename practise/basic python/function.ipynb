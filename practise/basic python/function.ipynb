{
 "cells": [
  {
   "cell_type": "markdown",
   "id": "66bbe942",
   "metadata": {},
   "source": [
    "## factorial\n"
   ]
  },
  {
   "cell_type": "code",
   "execution_count": 5,
   "id": "49970d5f",
   "metadata": {},
   "outputs": [
    {
     "name": "stdout",
     "output_type": "stream",
     "text": [
      "4\n",
      "24\n"
     ]
    }
   ],
   "source": [
    "n=int(input())\n",
    "# i=1\n",
    "count=1\n",
    "# while i<=n:\n",
    "#     count=count*i\n",
    "#     i+=1\n",
    "# print(count)\n",
    "for i in range(1,n+1):\n",
    "    count=count*i\n",
    "print(count)"
   ]
  },
  {
   "cell_type": "markdown",
   "id": "d784acc3",
   "metadata": {},
   "source": [
    "## checking prime"
   ]
  },
  {
   "cell_type": "code",
   "execution_count": 21,
   "id": "c2af37ed",
   "metadata": {},
   "outputs": [],
   "source": [
    "def prime(n):\n",
    "    for i in range(2,n):\n",
    "        if(n%i==0):\n",
    "            break\n",
    "        else:\n",
    "            return True\n",
    "        return False\n"
   ]
  },
  {
   "cell_type": "markdown",
   "id": "ddd5e956",
   "metadata": {},
   "source": [
    "## range of prime number"
   ]
  },
  {
   "cell_type": "code",
   "execution_count": 22,
   "id": "d0d034db",
   "metadata": {},
   "outputs": [
    {
     "name": "stdout",
     "output_type": "stream",
     "text": [
      "3 5 7 9 11 13 15 17 19 "
     ]
    }
   ],
   "source": [
    "def prime(i):\n",
    "    for k in range(2,i):\n",
    "        if(i%k==0):\n",
    "            break\n",
    "        else:\n",
    "            return True\n",
    "        return False\n",
    "\n",
    "def isprime(n):\n",
    "    for i in range(2,n+1):\n",
    "        ans=prime(i)\n",
    "        if(ans):\n",
    "            print(i,end=' ')\n",
    "isprime(20)"
   ]
  },
  {
   "cell_type": "markdown",
   "id": "d998dcf9",
   "metadata": {},
   "source": [
    "## Given three values - Start Fahrenheit Value (S), End Fahrenheit value (E) and Step Size (W), you need to convert all Fahrenheit values from Start to End at the gap of W, into their corresponding Celsius values and print the table."
   ]
  },
  {
   "cell_type": "code",
   "execution_count": 28,
   "id": "d348851a",
   "metadata": {},
   "outputs": [
    {
     "name": "stdout",
     "output_type": "stream",
     "text": [
      "120 48\n",
      "160 71\n",
      "200 93\n"
     ]
    }
   ],
   "source": [
    "s=120\n",
    "e=200\n",
    "w=40\n",
    "\n",
    "def convert(s,e,w):\n",
    "    cel=(s-32)*(5/9)\n",
    "    for i in range(s,e+w,w):\n",
    "        cel=(i-32)*(5/9)\n",
    "        print(i,int(cel))\n",
    "convert(s,e,w)"
   ]
  },
  {
   "cell_type": "markdown",
   "id": "e5a5e461",
   "metadata": {},
   "source": [
    "## Given a number N, figure out if it is a member of fibonacci series or not. Return true if the number is member of fibonacci series else false.\n",
    "Fibonacci Series is defined by the recurrence\n",
    "    F(n) = F(n-1) + F(n-2)\n",
    "where F(0) = 0 and F(1) = 1\n"
   ]
  },
  {
   "cell_type": "code",
   "execution_count": 51,
   "id": "8bd43905",
   "metadata": {},
   "outputs": [
    {
     "data": {
      "text/plain": [
       "True"
      ]
     },
     "execution_count": 51,
     "metadata": {},
     "output_type": "execute_result"
    }
   ],
   "source": [
    "def fibonci(n):\n",
    "    a=0\n",
    "    b=1\n",
    "    if (n==0 or n==1):\n",
    "        return True\n",
    "    c=a+b\n",
    "    while c<=n:\n",
    "        if c==n:\n",
    "            return True\n",
    "        a=b\n",
    "        b=c\n",
    "        c=a+b\n",
    "    return False\n",
    "fibonci(5)\n",
    "        "
   ]
  }
 ],
 "metadata": {
  "kernelspec": {
   "display_name": "Python 3 (ipykernel)",
   "language": "python",
   "name": "python3"
  },
  "language_info": {
   "codemirror_mode": {
    "name": "ipython",
    "version": 3
   },
   "file_extension": ".py",
   "mimetype": "text/x-python",
   "name": "python",
   "nbconvert_exporter": "python",
   "pygments_lexer": "ipython3",
   "version": "3.9.7"
  }
 },
 "nbformat": 4,
 "nbformat_minor": 5
}
