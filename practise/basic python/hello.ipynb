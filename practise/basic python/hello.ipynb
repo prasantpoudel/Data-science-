{
 "cells": [
  {
   "cell_type": "code",
   "execution_count": 32,
   "id": "24a3e733",
   "metadata": {},
   "outputs": [
    {
     "name": "stdout",
     "output_type": "stream",
     "text": [
      "enter the number4\n",
      "1\n",
      "2\n",
      "3\n",
      "4\n",
      "6 4\n"
     ]
    }
   ],
   "source": [
    "n=int(input(\"enter the number\"))\n",
    "sum=0\n",
    "sum1=0\n",
    "a = []\n",
    "for i in range(0,n):\n",
    "    a.append(int(input()))\n",
    "    if(a[i] %2==0):\n",
    "        sum=sum+a[i]\n",
    "    else:\n",
    "        sum1=sum1+a[i]\n",
    "\n",
    "\n",
    "\n",
    "    \n",
    "print(sum,sum1)"
   ]
  },
  {
   "cell_type": "code",
   "execution_count": null,
   "id": "4ac776cd",
   "metadata": {},
   "outputs": [],
   "source": []
  },
  {
   "cell_type": "code",
   "execution_count": null,
   "id": "b6ef671a",
   "metadata": {},
   "outputs": [],
   "source": []
  }
 ],
 "metadata": {
  "kernelspec": {
   "display_name": "Python 3 (ipykernel)",
   "language": "python",
   "name": "python3"
  },
  "language_info": {
   "codemirror_mode": {
    "name": "ipython",
    "version": 3
   },
   "file_extension": ".py",
   "mimetype": "text/x-python",
   "name": "python",
   "nbconvert_exporter": "python",
   "pygments_lexer": "ipython3",
   "version": "3.9.7"
  }
 },
 "nbformat": 4,
 "nbformat_minor": 5
}
