{
 "cells": [
  {
   "cell_type": "markdown",
   "id": "f6b7f6e7",
   "metadata": {},
   "source": [
    "# set working"
   ]
  },
  {
   "cell_type": "code",
   "execution_count": 4,
   "id": "0e0f5447",
   "metadata": {},
   "outputs": [
    {
     "name": "stdout",
     "output_type": "stream",
     "text": [
      "<class 'set'>\n"
     ]
    }
   ],
   "source": [
    "a={\"apple\",\"cat\",\"donkey\"}\n",
    "print(type(a))"
   ]
  },
  {
   "cell_type": "markdown",
   "id": "2443bd0f",
   "metadata": {},
   "source": [
    "## checking the occurance in set"
   ]
  },
  {
   "cell_type": "code",
   "execution_count": 5,
   "id": "07a73707",
   "metadata": {},
   "outputs": [
    {
     "data": {
      "text/plain": [
       "True"
      ]
     },
     "execution_count": 5,
     "metadata": {},
     "output_type": "execute_result"
    }
   ],
   "source": [
    "\"apple\" in a"
   ]
  },
  {
   "cell_type": "code",
   "execution_count": 6,
   "id": "804887a2",
   "metadata": {},
   "outputs": [
    {
     "data": {
      "text/plain": [
       "False"
      ]
     },
     "execution_count": 6,
     "metadata": {},
     "output_type": "execute_result"
    }
   ],
   "source": [
    "\"shabaz\" in a\n"
   ]
  },
  {
   "cell_type": "code",
   "execution_count": 7,
   "id": "5fc3296b",
   "metadata": {},
   "outputs": [
    {
     "name": "stdout",
     "output_type": "stream",
     "text": [
      "donkey\n",
      "apple\n",
      "cat\n"
     ]
    }
   ],
   "source": [
    "for v in a:\n",
    "    print(v)"
   ]
  },
  {
   "cell_type": "code",
   "execution_count": 8,
   "id": "3a7003c6",
   "metadata": {},
   "outputs": [
    {
     "data": {
      "text/plain": [
       "3"
      ]
     },
     "execution_count": 8,
     "metadata": {},
     "output_type": "execute_result"
    }
   ],
   "source": [
    "len(a)"
   ]
  },
  {
   "cell_type": "markdown",
   "id": "44e91a0c",
   "metadata": {},
   "source": [
    "## how to add data on set"
   ]
  },
  {
   "cell_type": "code",
   "execution_count": 12,
   "id": "5c1fc3af",
   "metadata": {},
   "outputs": [
    {
     "data": {
      "text/plain": [
       "{4, 'apple', 'cat', 'dog', 'donkey'}"
      ]
     },
     "execution_count": 12,
     "metadata": {},
     "output_type": "execute_result"
    }
   ],
   "source": [
    "a.add(\"dog\")\n",
    "a.add(4)\n",
    "a"
   ]
  },
  {
   "cell_type": "markdown",
   "id": "2c591adf",
   "metadata": {},
   "source": [
    "## how to merge two set"
   ]
  },
  {
   "cell_type": "code",
   "execution_count": 13,
   "id": "ac138563",
   "metadata": {},
   "outputs": [],
   "source": [
    "b={\"1\",\"2\",\"3\"}"
   ]
  },
  {
   "cell_type": "code",
   "execution_count": 15,
   "id": "96a5d87b",
   "metadata": {},
   "outputs": [
    {
     "data": {
      "text/plain": [
       "{'1', '2', '3', 4, 'apple', 'cat', 'dog', 'donkey'}"
      ]
     },
     "execution_count": 15,
     "metadata": {},
     "output_type": "execute_result"
    }
   ],
   "source": [
    "a.update(b)\n",
    "a"
   ]
  },
  {
   "cell_type": "markdown",
   "id": "d3de4f2d",
   "metadata": {},
   "source": [
    "## how to remove"
   ]
  },
  {
   "cell_type": "code",
   "execution_count": 16,
   "id": "c659af70",
   "metadata": {},
   "outputs": [
    {
     "data": {
      "text/plain": [
       "{'1', '2', '3', 4, 'apple', 'cat', 'dog'}"
      ]
     },
     "execution_count": 16,
     "metadata": {},
     "output_type": "execute_result"
    }
   ],
   "source": [
    "a.remove(\"donkey\")\n",
    "a"
   ]
  },
  {
   "cell_type": "code",
   "execution_count": 17,
   "id": "84976a26",
   "metadata": {},
   "outputs": [
    {
     "data": {
      "text/plain": [
       "{'1', '2', '3', 'apple', 'cat', 'dog'}"
      ]
     },
     "execution_count": 17,
     "metadata": {},
     "output_type": "execute_result"
    }
   ],
   "source": [
    "a.discard(4)\n",
    "a\n",
    "#discard and remove  work as same"
   ]
  },
  {
   "cell_type": "code",
   "execution_count": 20,
   "id": "114319a3",
   "metadata": {},
   "outputs": [
    {
     "data": {
      "text/plain": [
       "'2'"
      ]
     },
     "execution_count": 20,
     "metadata": {},
     "output_type": "execute_result"
    }
   ],
   "source": [
    "a.pop()\n"
   ]
  },
  {
   "cell_type": "code",
   "execution_count": 21,
   "id": "f9e6d494",
   "metadata": {},
   "outputs": [
    {
     "data": {
      "text/plain": [
       "{'1', '3', 'apple', 'dog'}"
      ]
     },
     "execution_count": 21,
     "metadata": {},
     "output_type": "execute_result"
    }
   ],
   "source": [
    "a\n",
    "# pop will delete the item in randomly"
   ]
  },
  {
   "cell_type": "markdown",
   "id": "63bd220b",
   "metadata": {},
   "source": [
    "# set function"
   ]
  },
  {
   "cell_type": "code",
   "execution_count": 30,
   "id": "3603825d",
   "metadata": {},
   "outputs": [],
   "source": [
    "a={1,2,3,4}\n",
    "b={1,4,6,7}"
   ]
  },
  {
   "cell_type": "code",
   "execution_count": 23,
   "id": "ca53f75f",
   "metadata": {},
   "outputs": [
    {
     "data": {
      "text/plain": [
       "{1, 4}"
      ]
     },
     "execution_count": 23,
     "metadata": {},
     "output_type": "execute_result"
    }
   ],
   "source": [
    "a.intersection(b)"
   ]
  },
  {
   "cell_type": "code",
   "execution_count": 24,
   "id": "79e12725",
   "metadata": {},
   "outputs": [
    {
     "data": {
      "text/plain": [
       "{1, 2, 3, 4, 6, 7}"
      ]
     },
     "execution_count": 24,
     "metadata": {},
     "output_type": "execute_result"
    }
   ],
   "source": [
    "a.union(b)"
   ]
  },
  {
   "cell_type": "markdown",
   "id": "e64d0571",
   "metadata": {},
   "source": [
    "# difference \n"
   ]
  },
  {
   "cell_type": "code",
   "execution_count": 25,
   "id": "3760bc88",
   "metadata": {},
   "outputs": [
    {
     "data": {
      "text/plain": [
       "{2, 3}"
      ]
     },
     "execution_count": 25,
     "metadata": {},
     "output_type": "execute_result"
    }
   ],
   "source": [
    "a.difference(b)\n",
    "#value present in a but not in b"
   ]
  },
  {
   "cell_type": "code",
   "execution_count": 27,
   "id": "c587195a",
   "metadata": {},
   "outputs": [
    {
     "data": {
      "text/plain": [
       "{2, 3, 6, 7}"
      ]
     },
     "execution_count": 27,
     "metadata": {},
     "output_type": "execute_result"
    }
   ],
   "source": [
    "# symmetric_difference means union-intersection\n",
    "a.symmetric_difference(b)"
   ]
  },
  {
   "cell_type": "markdown",
   "id": "0081724e",
   "metadata": {},
   "source": [
    "# storing the intersection value on set"
   ]
  },
  {
   "cell_type": "code",
   "execution_count": 29,
   "id": "4e57987d",
   "metadata": {},
   "outputs": [
    {
     "data": {
      "text/plain": [
       "{1, 4}"
      ]
     },
     "execution_count": 29,
     "metadata": {},
     "output_type": "execute_result"
    }
   ],
   "source": [
    "a.intersection_update(b)\n",
    "a\n",
    "#intersection_update means it will discard the previous value and update with the intersection value\n",
    "# also we can do \n",
    "#difference_update()\n",
    "#symmetric_difference_update()\n",
    "#intersection_update()\n",
    "#but not union_update()❌"
   ]
  },
  {
   "cell_type": "code",
   "execution_count": 31,
   "id": "9cd08843",
   "metadata": {},
   "outputs": [
    {
     "data": {
      "text/plain": [
       "{1, 2, 3, 4}"
      ]
     },
     "execution_count": 31,
     "metadata": {},
     "output_type": "execute_result"
    }
   ],
   "source": [
    "a"
   ]
  },
  {
   "cell_type": "code",
   "execution_count": 32,
   "id": "e394dd44",
   "metadata": {},
   "outputs": [
    {
     "data": {
      "text/plain": [
       "{1, 4, 6, 7}"
      ]
     },
     "execution_count": 32,
     "metadata": {},
     "output_type": "execute_result"
    }
   ],
   "source": [
    "b"
   ]
  },
  {
   "cell_type": "code",
   "execution_count": 36,
   "id": "475f4f0f",
   "metadata": {},
   "outputs": [
    {
     "data": {
      "text/plain": [
       "{4, 6}"
      ]
     },
     "execution_count": 36,
     "metadata": {},
     "output_type": "execute_result"
    }
   ],
   "source": [
    "c={4,6}\n",
    "c"
   ]
  },
  {
   "cell_type": "code",
   "execution_count": 39,
   "id": "347ee90c",
   "metadata": {},
   "outputs": [
    {
     "name": "stdout",
     "output_type": "stream",
     "text": [
      "False\n",
      "True\n"
     ]
    }
   ],
   "source": [
    "print(a.issubset(b))\n",
    "print(c.issubset(b))"
   ]
  },
  {
   "cell_type": "code",
   "execution_count": 40,
   "id": "df8fd4bd",
   "metadata": {},
   "outputs": [
    {
     "data": {
      "text/plain": [
       "True"
      ]
     },
     "execution_count": 40,
     "metadata": {},
     "output_type": "execute_result"
    }
   ],
   "source": [
    "b.issuperset(c)"
   ]
  },
  {
   "cell_type": "code",
   "execution_count": 41,
   "id": "9485ecf1",
   "metadata": {},
   "outputs": [
    {
     "data": {
      "text/plain": [
       "{7, 8}"
      ]
     },
     "execution_count": 41,
     "metadata": {},
     "output_type": "execute_result"
    }
   ],
   "source": [
    "d={7,8}\n",
    "d"
   ]
  },
  {
   "cell_type": "code",
   "execution_count": 43,
   "id": "b341ea43",
   "metadata": {},
   "outputs": [
    {
     "data": {
      "text/plain": [
       "True"
      ]
     },
     "execution_count": 43,
     "metadata": {},
     "output_type": "execute_result"
    }
   ],
   "source": [
    "a.isdisjoint(d)\n",
    "#disjoint means completely different set of a and d"
   ]
  }
 ],
 "metadata": {
  "kernelspec": {
   "display_name": "Python 3 (ipykernel)",
   "language": "python",
   "name": "python3"
  },
  "language_info": {
   "codemirror_mode": {
    "name": "ipython",
    "version": 3
   },
   "file_extension": ".py",
   "mimetype": "text/x-python",
   "name": "python",
   "nbconvert_exporter": "python",
   "pygments_lexer": "ipython3",
   "version": "3.9.7"
  }
 },
 "nbformat": 4,
 "nbformat_minor": 5
}
