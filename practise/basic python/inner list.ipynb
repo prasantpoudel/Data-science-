{
 "cells": [
  {
   "cell_type": "markdown",
   "id": "ed615499",
   "metadata": {},
   "source": [
    "### making inner list using for loop"
   ]
  },
  {
   "cell_type": "code",
   "execution_count": 31,
   "id": "ed63c6f9",
   "metadata": {},
   "outputs": [
    {
     "data": {
      "text/plain": [
       "[[0, 1, 2, 3, 4],\n",
       " [0, 1, 2, 3, 4],\n",
       " [0, 1, 2, 3, 4],\n",
       " [0, 1, 2, 3, 4],\n",
       " [0, 1, 2, 3, 4],\n",
       " [0, 1, 2, 3, 4]]"
      ]
     },
     "execution_count": 31,
     "metadata": {},
     "output_type": "execute_result"
    }
   ],
   "source": [
    "a=[[j for j in range(5)] for i in range(6)]\n",
    "a"
   ]
  },
  {
   "cell_type": "markdown",
   "id": "66948dcc",
   "metadata": {},
   "source": [
    "## printing sum of column of every 2D list"
   ]
  },
  {
   "cell_type": "code",
   "execution_count": 44,
   "id": "8267f766",
   "metadata": {},
   "outputs": [
    {
     "name": "stdout",
     "output_type": "stream",
     "text": [
      "0\n",
      "7\n",
      "14\n",
      "21\n",
      "28\n",
      "[[0, 1, 2, 3, 4], [0, 1, 2, 3, 4], [0, 1, 2, 3, 4], [0, 1, 2, 3, 4], [0, 1, 2, 3, 4], [0, 1, 2, 3, 4], [0, 1, 2, 3, 4]]\n"
     ]
    }
   ],
   "source": [
    "a=[[j for j in range(5)] for i in range(7)]\n",
    "sum_colon(a)\n",
    "print(a)\n",
    "# print(len(a[0]))\n",
    "# print(len(a))\n",
    "def sum_colon(a):\n",
    "    m=len(a)\n",
    "    if m==0:\n",
    "        return\n",
    "    n=len(a[0])\n",
    "    for j in range(n):\n",
    "        sum_j=0\n",
    "        for i in range(m):\n",
    "            sum_j=sum_j+a[i][j]\n",
    "        print(sum_j)"
   ]
  },
  {
   "cell_type": "code",
   "execution_count": 45,
   "id": "06bf3e18",
   "metadata": {},
   "outputs": [
    {
     "name": "stdout",
     "output_type": "stream",
     "text": [
      "[10, 23, 56, [95]]\n"
     ]
    }
   ],
   "source": [
    "a=[10,23,56,[78]]\n",
    "b=list(a)\n",
    "a[3][0]=95\n",
    "a[1]=34\n",
    "print(b)"
   ]
  },
  {
   "cell_type": "markdown",
   "id": "dc4796b2",
   "metadata": {},
   "source": [
    "## in python 2D list sorting  is happing according to the first colums of every nested list>"
   ]
  },
  {
   "cell_type": "code",
   "execution_count": 51,
   "id": "57e674e6",
   "metadata": {},
   "outputs": [
    {
     "data": {
      "text/plain": [
       "[[1, 2, 3], [2, 3, 5], [3, 4, 5]]"
      ]
     },
     "execution_count": 51,
     "metadata": {},
     "output_type": "execute_result"
    }
   ],
   "source": [
    "a=[[1,2,3],[3,4,5],[2,3,5]]\n",
    "a.sort()\n",
    "a"
   ]
  },
  {
   "cell_type": "markdown",
   "id": "20b8ed9c",
   "metadata": {},
   "source": [
    "## sum of every row in 2D list\n",
    "Sample Input 1:\n",
    "1 #test case\n",
    "4 2 #rows and columns\n",
    "1 2 #each list\n",
    "3 4 \n",
    "5 6 \n",
    "7 8\n",
    "Sample Output 1:\n",
    "3 7 11 15 "
   ]
  },
  {
   "cell_type": "code",
   "execution_count": 72,
   "id": "18f71d03",
   "metadata": {},
   "outputs": [
    {
     "name": "stdout",
     "output_type": "stream",
     "text": [
      "4 2\n",
      "1 2\n",
      "3 4 \n",
      "5 6\n",
      "7 8\n",
      "[[1, 2], [3, 4], [5, 6], [7, 8]]\n",
      "3 7 11 15 "
     ]
    }
   ],
   "source": [
    "size=input().split()\n",
    "m=int(size[0])\n",
    "n=int(size[1])\n",
    "a=[]\n",
    "for i in range(m):\n",
    "    row=[int(i) for i in input().split()]\n",
    "    a.append(row)\n",
    "print(a)\n",
    "\n",
    "sum_colon(a)\n",
    "def sum_colon(a):\n",
    "    m=len(a)\n",
    "    #if list is empty\n",
    "    if m==0:\n",
    "        return\n",
    "    n=len(a[0])\n",
    "    for i in range(m):\n",
    "        sum_j=0\n",
    "        for j in range(n):\n",
    "            sum_j+=a[i][j]\n",
    "        print(sum_j,end='')"
   ]
  },
  {
   "cell_type": "markdown",
   "id": "672b4153",
   "metadata": {},
   "source": [
    "## For a given two-dimensional integer array/list of size (N x M), print the array/list in a sine wave order, i.e, print the first column top to bottom, next column bottom to top and so on."
   ]
  },
  {
   "cell_type": "code",
   "execution_count": 2,
   "id": "b16a3b7e",
   "metadata": {},
   "outputs": [
    {
     "name": "stdout",
     "output_type": "stream",
     "text": [
      "1 5 9 10 6 2 3 7 11 12 8 4 "
     ]
    }
   ],
   "source": [
    "a=[[1, 2, 3, 4], [5, 6, 7, 8], [9, 10, 11, 12]]\n",
    "n=len(a) \n",
    "m=len(a[0])\n",
    "\n",
    "for j in range(m):\n",
    "    if j%2==0:\n",
    "        for i in range(n):\n",
    "            print(a[i][j],end=' ')\n",
    "    else:\n",
    "        for i in range(n-1,-1,-1):\n",
    "            print(a[i][j],end=' ')\n",
    "       "
   ]
  },
  {
   "cell_type": "markdown",
   "id": "3d4afd09",
   "metadata": {},
   "source": [
    "## For a given string(str), remove all the consecutive duplicate characters.\n"
   ]
  },
  {
   "cell_type": "code",
   "execution_count": 40,
   "id": "b23ba1ea",
   "metadata": {},
   "outputs": [
    {
     "name": "stdout",
     "output_type": "stream",
     "text": [
      "abc\n"
     ]
    }
   ],
   "source": [
    "def removechar(string):\n",
    "    new=[]\n",
    "    pre=None\n",
    "    for c in string:\n",
    "        if pre!=c:\n",
    "            new.append(c)\n",
    "            pre=c\n",
    "    return ''.join(new)\n",
    "string='aabbcc'\n",
    "print(removechar(string))\n"
   ]
  },
  {
   "cell_type": "markdown",
   "id": "0c85555a",
   "metadata": {},
   "source": [
    "## reverse the string"
   ]
  },
  {
   "cell_type": "code",
   "execution_count": 42,
   "id": "e52ac203",
   "metadata": {},
   "outputs": [
    {
     "name": "stdout",
     "output_type": "stream",
     "text": [
      "Welcome to Coding Ninjas\n",
      "sajniN gnidoC ot emocleW\n"
     ]
    }
   ],
   "source": [
    "text=input()\n",
    "print(text[::-1])"
   ]
  },
  {
   "cell_type": "markdown",
   "id": "90f94700",
   "metadata": {},
   "source": []
  }
 ],
 "metadata": {
  "kernelspec": {
   "display_name": "Python 3 (ipykernel)",
   "language": "python",
   "name": "python3"
  },
  "language_info": {
   "codemirror_mode": {
    "name": "ipython",
    "version": 3
   },
   "file_extension": ".py",
   "mimetype": "text/x-python",
   "name": "python",
   "nbconvert_exporter": "python",
   "pygments_lexer": "ipython3",
   "version": "3.9.7"
  }
 },
 "nbformat": 4,
 "nbformat_minor": 5
}
