{
 "cells": [
  {
   "cell_type": "markdown",
   "id": "dab56810",
   "metadata": {},
   "source": [
    "## creation of dictonary\n"
   ]
  },
  {
   "cell_type": "code",
   "execution_count": 9,
   "id": "7efe7409",
   "metadata": {},
   "outputs": [
    {
     "name": "stdout",
     "output_type": "stream",
     "text": [
      "{'the': 3, 'a': 5, 1000: 'str'}\n",
      "{'the': 3, 'a': 5, 1000: 'str'}\n",
      "{'the': 10, 32: 10, 'p': 10}\n"
     ]
    }
   ],
   "source": [
    "a={\"the\":3,\"a\":5,1000:\"str\"}\n",
    "print(a)\n",
    "\n",
    "c=dict([(\"the\",3),(\"a\",5),(1000,\"str\")])\n",
    "print(c)\n",
    "\n",
    "e=dict.fromkeys([\"the\",32,\"p\"],10)#10 will be sattle for all the key's value\n",
    "print(e)"
   ]
  },
  {
   "cell_type": "markdown",
   "id": "5c652ad4",
   "metadata": {},
   "source": [
    "## To acess the data from the dictionary we have to use .get() method and we have to pass the key "
   ]
  },
  {
   "cell_type": "code",
   "execution_count": 11,
   "id": "4ee4f3b6",
   "metadata": {},
   "outputs": [
    {
     "data": {
      "text/plain": [
       "10"
      ]
     },
     "execution_count": 11,
     "metadata": {},
     "output_type": "execute_result"
    }
   ],
   "source": [
    "e.get(\"the\")"
   ]
  },
  {
   "cell_type": "markdown",
   "id": "a6ea95a9",
   "metadata": {},
   "source": [
    "## the second argument present in the get method denote the value of key if the key is not present in the dict "
   ]
  },
  {
   "cell_type": "code",
   "execution_count": 13,
   "id": "cf4800b5",
   "metadata": {},
   "outputs": [
    {
     "name": "stdout",
     "output_type": "stream",
     "text": [
      "None\n"
     ]
    },
    {
     "data": {
      "text/plain": [
       "0"
      ]
     },
     "execution_count": 13,
     "metadata": {},
     "output_type": "execute_result"
    }
   ],
   "source": [
    "print(e.get(\"k\"))\n",
    "# if we doesn't use print command then we didn't get output because the value of key is none.  \n",
    "e.get(\"k\",0)\n"
   ]
  },
  {
   "cell_type": "markdown",
   "id": "4c7c5408",
   "metadata": {},
   "source": [
    "## how to get key and values"
   ]
  },
  {
   "cell_type": "code",
   "execution_count": 18,
   "id": "354dcac6",
   "metadata": {},
   "outputs": [
    {
     "name": "stdout",
     "output_type": "stream",
     "text": [
      "dict_keys(['the', 'a', 1000])\n",
      "dict_values([3, 5, 'str'])\n",
      "dict_items([('the', 3), ('a', 5), (1000, 'str')])\n"
     ]
    }
   ],
   "source": [
    "# to get all the keys \n",
    "print(a.keys())\n",
    "#to get all the value\n",
    "print(a.values())\n",
    "# to get key value pairs\n",
    "print(a.items())"
   ]
  },
  {
   "cell_type": "code",
   "execution_count": 20,
   "id": "6da13187",
   "metadata": {},
   "outputs": [
    {
     "name": "stdout",
     "output_type": "stream",
     "text": [
      "dict_items([('kk', 5), ('list', [1, 23]), ('dict', {1, 3, 4})])\n"
     ]
    }
   ],
   "source": [
    "p={\"kk\":5,\"list\":[1,23],\"dict\":{1,3,4}}\n",
    "print(p.items())"
   ]
  },
  {
   "cell_type": "code",
   "execution_count": 22,
   "id": "ad0acbaf",
   "metadata": {},
   "outputs": [
    {
     "name": "stdout",
     "output_type": "stream",
     "text": [
      "kk 5\n",
      "list [1, 23]\n",
      "dict {1, 3, 4}\n"
     ]
    }
   ],
   "source": [
    "for i in p:\n",
    "    print(i,p[i])"
   ]
  },
  {
   "cell_type": "code",
   "execution_count": 24,
   "id": "fedf46ba",
   "metadata": {},
   "outputs": [
    {
     "name": "stdout",
     "output_type": "stream",
     "text": [
      "5\n",
      "[1, 23]\n",
      "{1, 3, 4}\n",
      "kk\n",
      "list\n",
      "dict\n"
     ]
    }
   ],
   "source": [
    "# to get only value of key\n",
    "for i in p.values():\n",
    "    print(i)\n",
    "for i in p.keys():\n",
    "    print(i)"
   ]
  },
  {
   "cell_type": "markdown",
   "id": "527313c2",
   "metadata": {},
   "source": [
    "## to check the key or value present in dict"
   ]
  },
  {
   "cell_type": "code",
   "execution_count": 26,
   "id": "53ecca38",
   "metadata": {},
   "outputs": [
    {
     "data": {
      "text/plain": [
       "True"
      ]
     },
     "execution_count": 26,
     "metadata": {},
     "output_type": "execute_result"
    }
   ],
   "source": [
    "#this method is work only for key not the value\n",
    "\"kk\" in p"
   ]
  },
  {
   "cell_type": "code",
   "execution_count": 28,
   "id": "7f43bbf7",
   "metadata": {},
   "outputs": [
    {
     "data": {
      "text/plain": [
       "False"
      ]
     },
     "execution_count": 28,
     "metadata": {},
     "output_type": "execute_result"
    }
   ],
   "source": [
    "\"5\" in p"
   ]
  },
  {
   "cell_type": "markdown",
   "id": "27c19b28",
   "metadata": {},
   "source": [
    "## how to add new key and value on tuple"
   ]
  },
  {
   "cell_type": "code",
   "execution_count": 30,
   "id": "6d289e06",
   "metadata": {},
   "outputs": [
    {
     "name": "stdout",
     "output_type": "stream",
     "text": [
      "{'kk': 5, 'list': [1, 23], 'dict': {1, 3, 4}, 'prasant': 10}\n"
     ]
    }
   ],
   "source": [
    "p[\"prasant\"]=10\n",
    "print(p)"
   ]
  },
  {
   "cell_type": "code",
   "execution_count": 31,
   "id": "e89217b2",
   "metadata": {},
   "outputs": [
    {
     "data": {
      "text/plain": [
       "{'kk': 5, 'list': [1, 23], 'dict': {1, 3, 4}, 'prasant': 10}"
      ]
     },
     "execution_count": 31,
     "metadata": {},
     "output_type": "execute_result"
    }
   ],
   "source": [
    "p\n"
   ]
  },
  {
   "cell_type": "code",
   "execution_count": 32,
   "id": "9b230386",
   "metadata": {},
   "outputs": [],
   "source": [
    "# to update new value\n",
    "p[\"kk\"]=10"
   ]
  },
  {
   "cell_type": "code",
   "execution_count": 33,
   "id": "95c970f3",
   "metadata": {},
   "outputs": [
    {
     "data": {
      "text/plain": [
       "{'kk': 10, 'list': [1, 23], 'dict': {1, 3, 4}, 'prasant': 10}"
      ]
     },
     "execution_count": 33,
     "metadata": {},
     "output_type": "execute_result"
    }
   ],
   "source": [
    "p"
   ]
  },
  {
   "cell_type": "markdown",
   "id": "c4dcf038",
   "metadata": {},
   "source": [
    "## we can use update to update the current dict to compare with another one "
   ]
  },
  {
   "cell_type": "code",
   "execution_count": 34,
   "id": "41661a5f",
   "metadata": {},
   "outputs": [
    {
     "data": {
      "text/plain": [
       "{'the': 3, 'a': 5, 1000: 'str'}"
      ]
     },
     "execution_count": 34,
     "metadata": {},
     "output_type": "execute_result"
    }
   ],
   "source": [
    "a"
   ]
  },
  {
   "cell_type": "code",
   "execution_count": 35,
   "id": "472102d1",
   "metadata": {},
   "outputs": [],
   "source": [
    "g={\"the\":5,\"p\":\"k\"}\n"
   ]
  },
  {
   "cell_type": "code",
   "execution_count": 36,
   "id": "77d2ffff",
   "metadata": {},
   "outputs": [
    {
     "name": "stdout",
     "output_type": "stream",
     "text": [
      "{'the': 5, 'a': 5, 1000: 'str', 'p': 'k'}\n"
     ]
    }
   ],
   "source": [
    "a.update(g)\n",
    "print(a)"
   ]
  },
  {
   "cell_type": "markdown",
   "id": "2ebce57b",
   "metadata": {},
   "source": [
    "## to delete the key value from dict"
   ]
  },
  {
   "cell_type": "code",
   "execution_count": 37,
   "id": "af35aaab",
   "metadata": {},
   "outputs": [
    {
     "data": {
      "text/plain": [
       "5"
      ]
     },
     "execution_count": 37,
     "metadata": {},
     "output_type": "execute_result"
    }
   ],
   "source": [
    "a.pop('the')"
   ]
  },
  {
   "cell_type": "code",
   "execution_count": 38,
   "id": "6eeb9c58",
   "metadata": {},
   "outputs": [
    {
     "data": {
      "text/plain": [
       "{'a': 5, 1000: 'str', 'p': 'k'}"
      ]
     },
     "execution_count": 38,
     "metadata": {},
     "output_type": "execute_result"
    }
   ],
   "source": [
    "a"
   ]
  },
  {
   "cell_type": "markdown",
   "id": "d90e283f",
   "metadata": {},
   "source": [
    "## another mathod to del"
   ]
  },
  {
   "cell_type": "code",
   "execution_count": 41,
   "id": "12b5140d",
   "metadata": {},
   "outputs": [],
   "source": [
    "del a[\"a\"]"
   ]
  },
  {
   "cell_type": "code",
   "execution_count": 42,
   "id": "468403d0",
   "metadata": {},
   "outputs": [
    {
     "data": {
      "text/plain": [
       "{1000: 'str', 'p': 'k'}"
      ]
     },
     "execution_count": 42,
     "metadata": {},
     "output_type": "execute_result"
    }
   ],
   "source": [
    "a"
   ]
  },
  {
   "cell_type": "markdown",
   "id": "e1ab95c2",
   "metadata": {},
   "source": [
    "## to clear all the value and key or to make empty dict"
   ]
  },
  {
   "cell_type": "code",
   "execution_count": 51,
   "id": "f25096f6",
   "metadata": {},
   "outputs": [],
   "source": [
    "c.clear()"
   ]
  },
  {
   "cell_type": "code",
   "execution_count": 52,
   "id": "0ed7fe72",
   "metadata": {},
   "outputs": [
    {
     "data": {
      "text/plain": [
       "{}"
      ]
     },
     "execution_count": 52,
     "metadata": {},
     "output_type": "execute_result"
    }
   ],
   "source": [
    "c"
   ]
  },
  {
   "cell_type": "markdown",
   "id": "cb0bcf1a",
   "metadata": {},
   "source": [
    "## to delete the entire dict existance"
   ]
  },
  {
   "cell_type": "code",
   "execution_count": 53,
   "id": "f688dac4",
   "metadata": {},
   "outputs": [],
   "source": [
    "del c\n"
   ]
  },
  {
   "cell_type": "code",
   "execution_count": 54,
   "id": "b815c4d3",
   "metadata": {},
   "outputs": [
    {
     "ename": "NameError",
     "evalue": "name 'c' is not defined",
     "output_type": "error",
     "traceback": [
      "\u001b[0;31m---------------------------------------------------------------------------\u001b[0m",
      "\u001b[0;31mNameError\u001b[0m                                 Traceback (most recent call last)",
      "\u001b[0;32m/var/folders/ny/9v084qqs5bv3c8gmyggl1ypc0000gn/T/ipykernel_44307/3235490055.py\u001b[0m in \u001b[0;36m<module>\u001b[0;34m\u001b[0m\n\u001b[0;32m----> 1\u001b[0;31m \u001b[0mc\u001b[0m\u001b[0;34m\u001b[0m\u001b[0;34m\u001b[0m\u001b[0m\n\u001b[0m",
      "\u001b[0;31mNameError\u001b[0m: name 'c' is not defined"
     ]
    }
   ],
   "source": [
    "c\n",
    "#the dict is not there so it is giving error"
   ]
  },
  {
   "cell_type": "markdown",
   "id": "c5968862",
   "metadata": {},
   "source": [
    "## printing the frequency of the word"
   ]
  },
  {
   "cell_type": "code",
   "execution_count": null,
   "id": "4c1ac697",
   "metadata": {},
   "outputs": [],
   "source": []
  },
  {
   "cell_type": "code",
   "execution_count": null,
   "id": "219b1199",
   "metadata": {},
   "outputs": [],
   "source": []
  }
 ],
 "metadata": {
  "kernelspec": {
   "display_name": "Python 3 (ipykernel)",
   "language": "python",
   "name": "python3"
  },
  "language_info": {
   "codemirror_mode": {
    "name": "ipython",
    "version": 3
   },
   "file_extension": ".py",
   "mimetype": "text/x-python",
   "name": "python",
   "nbconvert_exporter": "python",
   "pygments_lexer": "ipython3",
   "version": "3.9.7"
  }
 },
 "nbformat": 4,
 "nbformat_minor": 5
}
