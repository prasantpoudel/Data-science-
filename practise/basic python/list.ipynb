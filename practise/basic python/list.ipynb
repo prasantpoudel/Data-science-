{
 "cells": [
  {
   "cell_type": "markdown",
   "id": "787c6810",
   "metadata": {},
   "source": [
    "## taking input of list and finding the sum of odd and even number"
   ]
  },
  {
   "cell_type": "code",
   "execution_count": 10,
   "id": "c0b008f8",
   "metadata": {},
   "outputs": [
    {
     "name": "stdout",
     "output_type": "stream",
     "text": [
      "1 2 3 4 5 6\n",
      "12 9 3\n"
     ]
    }
   ],
   "source": [
    "a=[int(s) for s in input().split()]\n",
    "even=0\n",
    "odd=0\n",
    "for i in a:\n",
    "    if i%2==0:\n",
    "        even=even+i\n",
    "    else:\n",
    "        odd=odd+i\n",
    "print(even,odd,even-odd)"
   ]
  },
  {
   "cell_type": "markdown",
   "id": "3046dba6",
   "metadata": {},
   "source": [
    "## swaping the number in the list"
   ]
  },
  {
   "cell_type": "code",
   "execution_count": 18,
   "id": "a9c4b9aa",
   "metadata": {},
   "outputs": [
    {
     "name": "stdout",
     "output_type": "stream",
     "text": [
      "1 2 3 4 5\n",
      "[2, 1, 4, 3, 5]\n"
     ]
    }
   ],
   "source": [
    "a=[int(s) for s in input().split()]\n",
    "i=0\n",
    "while i<(len(a)):\n",
    "    temp=a[i]\n",
    "    if i+1==len(a):\n",
    "        break\n",
    "    a[i]=a[i+1]\n",
    "    a[i+1]=temp\n",
    "    i+=2\n",
    "    \n",
    "print(a)"
   ]
  },
  {
   "cell_type": "markdown",
   "id": "0f9632e1",
   "metadata": {},
   "source": [
    "## 2D list for m*n "
   ]
  },
  {
   "cell_type": "code",
   "execution_count": 35,
   "id": "6f0381dc",
   "metadata": {},
   "outputs": [
    {
     "name": "stdout",
     "output_type": "stream",
     "text": [
      "2 3\n",
      "1 2 3\n",
      "3 4 5\n",
      "[[1, 2, 3], [3, 4, 5]]\n"
     ]
    }
   ],
   "source": [
    "size=input().split()\n",
    "m=int(size[0])\n",
    "n=int(size[1])\n",
    "a=[]\n",
    "for i in range(m):\n",
    "    row=[int(i) for i in input().split()]\n",
    "    a.append(row)\n",
    "print(a)"
   ]
  },
  {
   "cell_type": "markdown",
   "id": "ec56a054",
   "metadata": {},
   "source": [
    "## formation of list using number of list and each list size(list size is same for all list) and giving input in every line. First line contain list nuber and size"
   ]
  },
  {
   "cell_type": "code",
   "execution_count": 38,
   "id": "c6bb9aca",
   "metadata": {},
   "outputs": [
    {
     "name": "stdout",
     "output_type": "stream",
     "text": [
      "2 3\n",
      "1\n",
      "2\n",
      "3\n",
      "4\n",
      "5\n",
      "6\n"
     ]
    },
    {
     "data": {
      "text/plain": [
       "[[1, 2, 3], [4, 5, 6]]"
      ]
     },
     "execution_count": 38,
     "metadata": {},
     "output_type": "execute_result"
    }
   ],
   "source": [
    "size=input().split()\n",
    "m=int(size[0])\n",
    "n=int(size[1])\n",
    "a=[]\n",
    "for i in range(m):\n",
    "    arr=[]\n",
    "    for j in range(n):\n",
    "        next_line=int(input())\n",
    "        arr.append(next_line)\n",
    "    a.append(arr)\n",
    "a"
   ]
  },
  {
   "cell_type": "markdown",
   "id": "1e60c2f5",
   "metadata": {},
   "source": [
    "## a long list is given and we have to mave 2D list using M N.Where M is number of list and N is size\n"
   ]
  },
  {
   "cell_type": "code",
   "execution_count": 44,
   "id": "2eaf73d2",
   "metadata": {},
   "outputs": [
    {
     "name": "stdout",
     "output_type": "stream",
     "text": [
      "2 3\n",
      "1 2 3\n"
     ]
    },
    {
     "data": {
      "text/plain": [
       "[[1, 2, 3], []]"
      ]
     },
     "execution_count": 44,
     "metadata": {},
     "output_type": "execute_result"
    }
   ],
   "source": [
    "size=input().split()\n",
    "m=int(size[0])\n",
    "n=int(size[1])\n",
    "a=[int(l) for l in input().split()]\n",
    "b=[]\n",
    "for i in range(m):\n",
    "    start=n*i\n",
    "    end=n*(i+1)\n",
    "  \n",
    "    next_row=a[start:end]\n",
    "    b.append(next_row)\n",
    "b"
   ]
  }
 ],
 "metadata": {
  "kernelspec": {
   "display_name": "Python 3 (ipykernel)",
   "language": "python",
   "name": "python3"
  },
  "language_info": {
   "codemirror_mode": {
    "name": "ipython",
    "version": 3
   },
   "file_extension": ".py",
   "mimetype": "text/x-python",
   "name": "python",
   "nbconvert_exporter": "python",
   "pygments_lexer": "ipython3",
   "version": "3.9.7"
  }
 },
 "nbformat": 4,
 "nbformat_minor": 5
}
