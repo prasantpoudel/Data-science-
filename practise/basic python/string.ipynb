{
 "cells": [
  {
   "cell_type": "markdown",
   "id": "d7d3131d",
   "metadata": {},
   "source": [
    "## For a given input string(str), write a function to print all the possible substrings."
   ]
  },
  {
   "cell_type": "code",
   "execution_count": 3,
   "id": "01ee0add",
   "metadata": {},
   "outputs": [
    {
     "name": "stdout",
     "output_type": "stream",
     "text": [
      "pppp\n",
      "p\n",
      "p\n",
      "p\n",
      "p\n",
      "pp\n",
      "pp\n",
      "pp\n",
      "ppp\n",
      "ppp\n",
      "pppp\n"
     ]
    }
   ],
   "source": [
    "def subString(Str,n):\n",
    "     \n",
    "    # Pick starting point\n",
    "    for Len in range(1,n + 1):\n",
    "         \n",
    "        # Pick ending point\n",
    "        for i in range(n - Len + 1):\n",
    "             \n",
    "            # Print characters from current\n",
    "            # starting point to current ending\n",
    "            # point.\n",
    "            j = i + Len - 1\n",
    " \n",
    "            for k in range(i,j + 1):\n",
    "                print(Str[k],end=\"\")\n",
    "            print()\n",
    "             \n",
    "# Driver program to test above function\n",
    "Str = input()\n",
    "subString(Str,len(Str))\n",
    " "
   ]
  }
 ],
 "metadata": {
  "kernelspec": {
   "display_name": "Python 3 (ipykernel)",
   "language": "python",
   "name": "python3"
  },
  "language_info": {
   "codemirror_mode": {
    "name": "ipython",
    "version": 3
   },
   "file_extension": ".py",
   "mimetype": "text/x-python",
   "name": "python",
   "nbconvert_exporter": "python",
   "pygments_lexer": "ipython3",
   "version": "3.9.7"
  }
 },
 "nbformat": 4,
 "nbformat_minor": 5
}
