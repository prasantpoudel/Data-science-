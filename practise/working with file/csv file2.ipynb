{
 "cells": [
  {
   "cell_type": "markdown",
   "id": "12536bac",
   "metadata": {},
   "source": [
    "# how to show data as a key value pair(column will be key)"
   ]
  },
  {
   "cell_type": "code",
   "execution_count": 2,
   "id": "f10d2914",
   "metadata": {},
   "outputs": [
    {
     "name": "stdout",
     "output_type": "stream",
     "text": [
      "{'Year': '2017', 'Month': '1', 'Day': '2', 'Country': 'Afghanistan', 'Region': 'South Asia', 'city': 'Takhta Pul', 'latitude': '31.320556', 'longitude': '65.961111', 'AttackType': 'Hostage Taking (Kidnapping)', 'Killed': '0.0', 'Wounded': '0.0', 'Target': 'Construction Workers', 'Group': 'Taliban', 'Target_type': 'Business', 'Weapon_type': 'Firearms', 'casualities': '0.0'}\n",
      "{'Year': '2017', 'Month': '1', 'Day': '3', 'Country': 'Sudan', 'Region': 'Sub-Saharan Africa', 'city': 'Fantaga', 'latitude': '12.921007000000001', 'longitude': '24.318324', 'AttackType': 'Armed Assault', 'Killed': '2.0', 'Wounded': '0.0', 'Target': 'Civilians: Haroun Yousif, Hamid Ibrahim', 'Group': 'Unknown', 'Target_type': 'Private Citizens & Property', 'Weapon_type': 'Firearms', 'casualities': '2.0'}\n",
      "{'Year': '2017', 'Month': '1', 'Day': '1', 'Country': 'Democratic Republic of the Congo', 'Region': 'Sub-Saharan Africa', 'city': 'Saboko', 'latitude': '1.452372', 'longitude': '29.875162', 'AttackType': 'Armed Assault', 'Killed': '7.0', 'Wounded': '0.0', 'Target': 'Village', 'Group': 'Allied Democratic Forces (ADF)', 'Target_type': 'Private Citizens & Property', 'Weapon_type': 'Melee', 'casualities': '7.0'}\n"
     ]
    }
   ],
   "source": [
    "import csv\n",
    "with open('year2017.csv','r') as file_obj:\n",
    "    file_read=csv.DictReader(file_obj,skipinitialspace=True) # DictReader make the data as a key value pair\n",
    "    \n",
    "    for row in file_read:\n",
    "        print(row)\n",
    "\n",
    "   "
   ]
  },
  {
   "cell_type": "markdown",
   "id": "50b592fe",
   "metadata": {},
   "source": [
    "### we can customize the column name by a,b,c"
   ]
  },
  {
   "cell_type": "code",
   "execution_count": 3,
   "id": "d5d10c45",
   "metadata": {},
   "outputs": [
    {
     "name": "stdout",
     "output_type": "stream",
     "text": [
      "{'a': 'Year', 'b': 'Month', 'c': 'Day', None: ['Country', 'Region', 'city', 'latitude', 'longitude', 'AttackType', 'Killed', 'Wounded', 'Target', 'Group', 'Target_type', 'Weapon_type', 'casualities']}\n",
      "{'a': '2017', 'b': '1', 'c': '2', None: ['Afghanistan', 'South Asia', 'Takhta Pul', '31.320556', '65.961111', 'Hostage Taking (Kidnapping)', '0.0', '0.0', 'Construction Workers', 'Taliban', 'Business', 'Firearms', '0.0']}\n",
      "{'a': '2017', 'b': '1', 'c': '3', None: ['Sudan', 'Sub-Saharan Africa', 'Fantaga', '12.921007000000001', '24.318324', 'Armed Assault', '2.0', '0.0', 'Civilians: Haroun Yousif, Hamid Ibrahim', 'Unknown', 'Private Citizens & Property', 'Firearms', '2.0']}\n",
      "{'a': '2017', 'b': '1', 'c': '1', None: ['Democratic Republic of the Congo', 'Sub-Saharan Africa', 'Saboko', '1.452372', '29.875162', 'Armed Assault', '7.0', '0.0', 'Village', 'Allied Democratic Forces (ADF)', 'Private Citizens & Property', 'Melee', '7.0']}\n"
     ]
    }
   ],
   "source": [
    "import csv\n",
    "with open('year2017.csv','r') as file_obj:\n",
    "    file_read=csv.DictReader(file_obj,skipinitialspace=True,fieldnames=('a','b','c')) # changing the first 3 column\n",
    "         # name as a,b,c and other will be as a none\n",
    "    \n",
    "    for row in file_read:\n",
    "        print(row)\n",
    "\n",
    "   "
   ]
  },
  {
   "cell_type": "code",
   "execution_count": 5,
   "id": "0f31c30b",
   "metadata": {},
   "outputs": [
    {
     "name": "stdout",
     "output_type": "stream",
     "text": [
      "Firearms\n",
      "Firearms\n",
      "Melee\n"
     ]
    }
   ],
   "source": [
    "import csv\n",
    "with open('year2017.csv','r') as file_obj:\n",
    "    file_read=csv.DictReader(file_obj,skipinitialspace=True) \n",
    "    \n",
    "    for row in file_read:\n",
    "        print(row['Weapon_type']) # after making dict no need to give column index we can pass direct name of column\n"
   ]
  },
  {
   "cell_type": "markdown",
   "id": "080d0135",
   "metadata": {},
   "source": [
    "count the number where weapon type is explosive"
   ]
  },
  {
   "cell_type": "code",
   "execution_count": 6,
   "id": "15184aa8",
   "metadata": {},
   "outputs": [
    {
     "name": "stdout",
     "output_type": "stream",
     "text": [
      "0\n"
     ]
    }
   ],
   "source": [
    "import csv\n",
    "with open('year2017.csv','r') as file_obj:\n",
    "    file_read=csv.DictReader(file_obj,skipinitialspace=True) \n",
    "    count=0\n",
    "    for row in file_read:\n",
    "         \n",
    "        if row['Weapon_type']==\"Explosives\":\n",
    "               count+=1\n",
    "    print(count)\n"
   ]
  },
  {
   "cell_type": "markdown",
   "id": "00c108d0",
   "metadata": {},
   "source": [
    "## country wise kill\n"
   ]
  },
  {
   "cell_type": "code",
   "execution_count": 10,
   "id": "98315e3b",
   "metadata": {},
   "outputs": [
    {
     "name": "stdout",
     "output_type": "stream",
     "text": [
      "{'Afghanistan': 0, 'Sudan': 2, 'Democratic Republic of the Congo': 7}\n"
     ]
    }
   ],
   "source": [
    "import csv\n",
    "with open('year2017.csv','r') as file_obj:\n",
    "    file_read=csv.DictReader(file_obj,skipinitialspace=True) \n",
    "    file_list=list(file_read)\n",
    "    \n",
    "    country_kill={}\n",
    "    for row in file_list:\n",
    "        key=row['Country']\n",
    "        value=row['Killed']\n",
    "        \n",
    "        if value!='':\n",
    "            value=int(float(value))\n",
    "        else:\n",
    "            value=0\n",
    "            \n",
    "        if key in country_kill:\n",
    "            country_kill[key]+=value\n",
    "        else:\n",
    "            country_kill[key]=value\n",
    "print(country_kill)"
   ]
  },
  {
   "cell_type": "markdown",
   "id": "0056f4f8",
   "metadata": {},
   "source": [
    "### month vs kill"
   ]
  },
  {
   "cell_type": "code",
   "execution_count": 11,
   "id": "9d950c72",
   "metadata": {},
   "outputs": [
    {
     "name": "stdout",
     "output_type": "stream",
     "text": [
      "{'1': 9}\n"
     ]
    }
   ],
   "source": [
    "import csv\n",
    "with open('year2017.csv','r') as file_obj:\n",
    "    file_read=csv.DictReader(file_obj,skipinitialspace=True) \n",
    "    file_list=list(file_read)\n",
    "    \n",
    "    country_kill={}\n",
    "    for row in file_list:\n",
    "        key=row['Month']\n",
    "        value=row['Killed']\n",
    "        \n",
    "        if value!='':\n",
    "            value=int(float(value))\n",
    "        else:\n",
    "            value=0\n",
    "            \n",
    "        if key in country_kill:\n",
    "            country_kill[key]+=value\n",
    "        else:\n",
    "            country_kill[key]=value\n",
    "print(country_kill)"
   ]
  }
 ],
 "metadata": {
  "kernelspec": {
   "display_name": "Python 3 (ipykernel)",
   "language": "python",
   "name": "python3"
  },
  "language_info": {
   "codemirror_mode": {
    "name": "ipython",
    "version": 3
   },
   "file_extension": ".py",
   "mimetype": "text/x-python",
   "name": "python",
   "nbconvert_exporter": "python",
   "pygments_lexer": "ipython3",
   "version": "3.9.7"
  }
 },
 "nbformat": 4,
 "nbformat_minor": 5
}
