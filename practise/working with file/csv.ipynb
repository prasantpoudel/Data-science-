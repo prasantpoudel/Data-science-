{
 "cells": [
  {
   "cell_type": "markdown",
   "id": "4c5b9556",
   "metadata": {},
   "source": [
    "# csv file\n"
   ]
  },
  {
   "cell_type": "code",
   "execution_count": 7,
   "id": "513b6cfe",
   "metadata": {},
   "outputs": [
    {
     "name": "stdout",
     "output_type": "stream",
     "text": [
      "<class 'list'>\n",
      "['Year,Month,Day,Country,Region,city,latitude,longitude,AttackType,Killed,Wounded,Target,Group,Target_type,Weapon_type,casualities\\n', '2017,1,2,Afghanistan,South Asia,Takhta Pul,31.320556,65.961111,Hostage Taking (Kidnapping),0.0,0.0,Construction Workers,Taliban,Business,Firearms,0.0\\n', '2017,1,3,Sudan,Sub-Saharan Africa,Fantaga,12.921007000000001,24.318324,Armed Assault,2.0,0.0,\"Civilians: Haroun Yousif, Hamid Ibrahim\",Unknown,Private Citizens & Property,Firearms,2.0\\n', '2017,1,1,Democratic Republic of the Congo,Sub-Saharan Africa,Saboko,1.452372,29.875162,Armed Assault,7.0,0.0,Village,Allied Democratic Forces (ADF),Private Citizens & Property,Melee,7.0\\n']\n"
     ]
    }
   ],
   "source": [
    "with open('year2017.csv','r') as file_obj:\n",
    "    file_read=file_obj.readlines()\n",
    "print(type(file_read))\n",
    "print(file_read[:4])\n",
    "# here output is of the form of sting and seperated by ' ' \n",
    "#it is diffcult to know the value corresponded to the column"
   ]
  },
  {
   "cell_type": "markdown",
   "id": "8a5db7b0",
   "metadata": {},
   "source": [
    "## to read content column wise we have to import csv module"
   ]
  },
  {
   "cell_type": "code",
   "execution_count": 8,
   "id": "04201a64",
   "metadata": {},
   "outputs": [
    {
     "name": "stdout",
     "output_type": "stream",
     "text": [
      "['Year', 'Month', 'Day', 'Country', 'Region', 'city', 'latitude', 'longitude', 'AttackType', 'Killed', 'Wounded', 'Target', 'Group', 'Target_type', 'Weapon_type', 'casualities']\n",
      "['2017', '1', '2', 'Afghanistan', 'South Asia', 'Takhta Pul', '31.320556', '65.961111', 'Hostage Taking (Kidnapping)', '0.0', '0.0', 'Construction Workers', 'Taliban', 'Business', 'Firearms', '0.0']\n",
      "['2017', '1', '3', 'Sudan', 'Sub-Saharan Africa', 'Fantaga', '12.921007000000001', '24.318324', 'Armed Assault', '2.0', '0.0', 'Civilians: Haroun Yousif, Hamid Ibrahim', 'Unknown', 'Private Citizens & Property', 'Firearms', '2.0']\n",
      "['2017', '1', '1', 'Democratic Republic of the Congo', 'Sub-Saharan Africa', 'Saboko', '1.452372', '29.875162', 'Armed Assault', '7.0', '0.0', 'Village', 'Allied Democratic Forces (ADF)', 'Private Citizens & Property', 'Melee', '7.0']\n",
      "['2017', '1', '1', 'Democratic Republic of the Congo', 'Sub-Saharan Africa', 'Bialee', '1.4523700000000002', '29.875186', 'Armed Assault', '7.0', '0.0', 'Village', 'Allied Democratic Forces (ADF)', 'Private Citizens & Property', 'Melee', '7.0']\n",
      "['2017', '1', '1', 'Turkey', 'Middle East & North Africa', 'Istanbul', '41.106178', '28.689863', 'Armed Assault', '39.0', '69.0', 'Nightclub', 'Islamic State of Iraq and the Levant (ISIL)', 'Business', 'Firearms', '108.0']\n",
      "['2017', '1', '1', 'Syria', 'Middle East & North Africa', 'Tartus', '34.895928000000005', '35.886652000000005', 'Bombing/Explosion', '4.0', '', 'Officers', 'Islamic State of Iraq and the Levant (ISIL)', 'Police', 'Explosives', '']\n",
      "['2017', '1', '1', 'Pakistan', 'South Asia', 'Niaag Bandar', '34.824085', '71.382386', 'Bombing/Explosion', '1.0', '0.0', 'Patrol', 'Unknown', 'Police', 'Explosives', '1.0']\n",
      "['2017', '1', '1', 'Italy', 'Western Europe', 'Florence', '43.76956', '11.255813999999999', 'Bombing/Explosion', '0.0', '1.0', 'Bookstore', 'Anarchists', 'Business', 'Explosives', '1.0']\n",
      "<class '_csv.reader'>\n"
     ]
    }
   ],
   "source": [
    "import csv\n",
    "with open('year2017.csv','r') as file_obj:\n",
    "    file_read=csv.reader(file_obj)\n",
    "    # to print\n",
    "    for row in file_read:\n",
    "        print(row)\n",
    "print(type(file_read))\n",
    "# csv reader separate every column "
   ]
  },
  {
   "cell_type": "markdown",
   "id": "b434b137",
   "metadata": {},
   "source": [
    "## how to change '|' symbol to '' and sapce before any value"
   ]
  },
  {
   "cell_type": "code",
   "execution_count": null,
   "id": "b597a7ab",
   "metadata": {},
   "outputs": [],
   "source": [
    "import csv\n",
    "with open('Datasets/Sample_CustomDelim.csv') as file_obj :\n",
    "    file_data = csv.reader(file_obj, delimiter = '|',skipinitialspace = True)\n",
    "    \n",
    "    for row in file_data :\n",
    "        print(row)"
   ]
  },
  {
   "cell_type": "code",
   "execution_count": 19,
   "id": "7d17578e",
   "metadata": {},
   "outputs": [
    {
     "name": "stdout",
     "output_type": "stream",
     "text": [
      "[['Year,Month,Day,Country,Region,city,latitude,longitude,AttackType,Killed,Wounded,Target,Group,Target_type,Weapon_type,casualities'], ['2017,1,2,Afghanistan,South Asia,Takhta Pul,31.320556,65.961111,Hostage Taking (Kidnapping),0.0,0.0,Construction Workers,Taliban,Business,Firearms,0.0'], ['2017,1,3,Sudan,Sub-Saharan Africa,Fantaga,12.921007000000001,24.318324,Armed Assault,2.0,0.0,\"Civilians: Haroun Yousif, Hamid Ibrahim\",Unknown,Private Citizens & Property,Firearms,2.0'], ['2017,1,1,Democratic Republic of the Congo,Sub-Saharan Africa,Saboko,1.452372,29.875162,Armed Assault,7.0,0.0,Village,Allied Democratic Forces (ADF),Private Citizens & Property,Melee,7.0'], ['2017,1,1,Democratic Republic of the Congo,Sub-Saharan Africa,Bialee,1.4523700000000002,29.875186,Armed Assault,7.0,0.0,Village,Allied Democratic Forces (ADF),Private Citizens & Property,Melee,7.0'], ['2017,1,1,Turkey,Middle East & North Africa,Istanbul,41.106178,28.689863,Armed Assault,39.0,69.0,Nightclub,Islamic State of Iraq and the Levant (ISIL),Business,Firearms,108.0'], ['2017,1,1,Syria,Middle East & North Africa,Tartus,34.895928000000005,35.886652000000005,Bombing/Explosion,4.0,,Officers,Islamic State of Iraq and the Levant (ISIL),Police,Explosives,'], ['2017,1,1,Pakistan,South Asia,Niaag Bandar,34.824085,71.382386,Bombing/Explosion,1.0,0.0,Patrol,Unknown,Police,Explosives,1.0'], ['2017,1,1,Italy,Western Europe,Florence,43.76956,11.255813999999999,Bombing/Explosion,0.0,1.0,Bookstore,Anarchists,Business,Explosives,1.0']]\n"
     ]
    }
   ],
   "source": [
    "## to make a 2D list\n",
    "import csv\n",
    "with open('year2017.csv') as file_obj :\n",
    "    file_data = csv.reader(file_obj, delimiter = '|',skipinitialspace = True)\n",
    "    \n",
    "    file_list=list(file_data) # this make a 2D list like [[],[]]\n",
    "print(file_list)"
   ]
  },
  {
   "cell_type": "markdown",
   "id": "cda7ba5b",
   "metadata": {},
   "source": [
    "## how to get specify colum"
   ]
  },
  {
   "cell_type": "code",
   "execution_count": 22,
   "id": "326c3680",
   "metadata": {},
   "outputs": [
    {
     "name": "stdout",
     "output_type": "stream",
     "text": [
      "[0.0, 2.0, 7.0, 7.0, 39.0, 4.0, 1.0, 0.0]\n",
      "60\n"
     ]
    }
   ],
   "source": [
    "import csv\n",
    "with open('year2017.csv','r') as file_obj:\n",
    "    file_read=csv.reader(file_obj,skipinitialspace=True)\n",
    "    \n",
    "    file_list=list(file_read)\n",
    "    killed=[]\n",
    "    \n",
    "    for row in file_list[1:]:\n",
    "        val=row[9]  #we are checking any field contain only \"\"(this cann't change to float so skipping this)\n",
    "        if val!='':\n",
    "            killed.append(float(val)) # coverting string to float\n",
    "          #column 9 means in killed field is 9 th in csv file\n",
    "print(killed)\n",
    "print(int(sum(killed)))"
   ]
  },
  {
   "cell_type": "code",
   "execution_count": null,
   "id": "dafa28d3",
   "metadata": {},
   "outputs": [],
   "source": []
  }
 ],
 "metadata": {
  "kernelspec": {
   "display_name": "Python 3 (ipykernel)",
   "language": "python",
   "name": "python3"
  },
  "language_info": {
   "codemirror_mode": {
    "name": "ipython",
    "version": 3
   },
   "file_extension": ".py",
   "mimetype": "text/x-python",
   "name": "python",
   "nbconvert_exporter": "python",
   "pygments_lexer": "ipython3",
   "version": "3.9.7"
  }
 },
 "nbformat": 4,
 "nbformat_minor": 5
}
