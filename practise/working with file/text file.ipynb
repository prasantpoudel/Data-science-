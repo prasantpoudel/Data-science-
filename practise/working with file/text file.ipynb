{
 "cells": [
  {
   "cell_type": "markdown",
   "id": "66c3c656",
   "metadata": {},
   "source": [
    "# how to work with text file or csv file in python"
   ]
  },
  {
   "cell_type": "code",
   "execution_count": 32,
   "id": "7372428c",
   "metadata": {},
   "outputs": [
    {
     "data": {
      "text/plain": [
       "<_io.TextIOWrapper name='sample.txt' mode='r' encoding='UTF-8'>"
      ]
     },
     "execution_count": 32,
     "metadata": {},
     "output_type": "execute_result"
    }
   ],
   "source": [
    "file_obj=open('sample.txt','r') # w= write mode(delete the previous value) r=read mode a=append mode   this is optional\n",
    "file_obj\n",
    "# this output shows the open of file is success full"
   ]
  },
  {
   "cell_type": "code",
   "execution_count": 17,
   "id": "7deb6053",
   "metadata": {},
   "outputs": [
    {
     "data": {
      "text/plain": [
       "'hello my name is prasant\\n'"
      ]
     },
     "execution_count": 17,
     "metadata": {},
     "output_type": "execute_result"
    }
   ],
   "source": [
    "file_read=file_obj.read()  #to read the file\n",
    "file_read\n",
    "# output will give in string "
   ]
  },
  {
   "cell_type": "code",
   "execution_count": 22,
   "id": "4e53752a",
   "metadata": {},
   "outputs": [
    {
     "data": {
      "text/plain": [
       "'hello my n'"
      ]
     },
     "execution_count": 22,
     "metadata": {},
     "output_type": "execute_result"
    }
   ],
   "source": [
    "read_char=file_obj.read(10)  #print the 10 character\n",
    "read_char\n"
   ]
  },
  {
   "cell_type": "code",
   "execution_count": 23,
   "id": "64c8083c",
   "metadata": {},
   "outputs": [
    {
     "data": {
      "text/plain": [
       "'ame is prasant\\n'"
      ]
     },
     "execution_count": 23,
     "metadata": {},
     "output_type": "execute_result"
    }
   ],
   "source": [
    "read_line=file_obj.readline()  #readline(10) 10 means 10 character\n",
    "read_line\n",
    "#readline() function read the character utill it found \\n character or new line character"
   ]
  },
  {
   "cell_type": "code",
   "execution_count": 33,
   "id": "92d6924d",
   "metadata": {},
   "outputs": [
    {
     "name": "stdout",
     "output_type": "stream",
     "text": [
      "['hello my name is prasant\\n']\n",
      "1\n"
     ]
    }
   ],
   "source": [
    "# we can use readlines() it will give the ans in list format\n",
    "read_cr=file_obj.readlines()  #print the 10 character\n",
    "print(read_cr)\n",
    "print(len(read_cr))\n",
    "\n",
    "# we can acess the content present in file using indexing\n",
    "print(read_cr[0])"
   ]
  },
  {
   "cell_type": "code",
   "execution_count": null,
   "id": "cfffd266",
   "metadata": {},
   "outputs": [],
   "source": [
    "file_obj.close()\n",
    "#now we cann't acess file "
   ]
  },
  {
   "cell_type": "markdown",
   "id": "9cbae873",
   "metadata": {},
   "source": [
    "# another way of openeing a file so we dont need to close the file obj"
   ]
  },
  {
   "cell_type": "code",
   "execution_count": 34,
   "id": "04afdc10",
   "metadata": {},
   "outputs": [
    {
     "name": "stdout",
     "output_type": "stream",
     "text": [
      "hello my name is prasant\n",
      "\n"
     ]
    }
   ],
   "source": [
    "with open('sample.txt','r') as file_obj: #in this code automatically file obj is close when program come out from with statement\n",
    "    file_data=file_obj.read()\n",
    "print(file_data)"
   ]
  },
  {
   "cell_type": "code",
   "execution_count": null,
   "id": "dc6f1e91",
   "metadata": {},
   "outputs": [],
   "source": []
  }
 ],
 "metadata": {
  "kernelspec": {
   "display_name": "Python 3 (ipykernel)",
   "language": "python",
   "name": "python3"
  },
  "language_info": {
   "codemirror_mode": {
    "name": "ipython",
    "version": 3
   },
   "file_extension": ".py",
   "mimetype": "text/x-python",
   "name": "python",
   "nbconvert_exporter": "python",
   "pygments_lexer": "ipython3",
   "version": "3.9.7"
  }
 },
 "nbformat": 4,
 "nbformat_minor": 5
}
