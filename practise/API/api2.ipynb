{
 "cells": [
  {
   "cell_type": "code",
   "execution_count": 2,
   "id": "10eb221a",
   "metadata": {},
   "outputs": [],
   "source": [
    "import requests"
   ]
  },
  {
   "cell_type": "code",
   "execution_count": 4,
   "id": "a594d146",
   "metadata": {},
   "outputs": [
    {
     "name": "stdout",
     "output_type": "stream",
     "text": [
      "200\n"
     ]
    }
   ],
   "source": [
    "a=requests.get('https://docs.openaq.org/v1/cities') #whether api \n",
    "print(a.status_code)"
   ]
  },
  {
   "cell_type": "code",
   "execution_count": 7,
   "id": "f1e9b72d",
   "metadata": {},
   "outputs": [
    {
     "name": "stdout",
     "output_type": "stream",
     "text": [
      "{'meta': {'name': 'openaq-api', 'license': 'CC BY 4.0d', 'website': 'https://u50g7n0cbj.execute-api.us-east-1.amazonaws.com/', 'page': 1, 'limit': 100, 'found': 3153}, 'results': [{'country': 'US', 'name': '007', 'city': '007', 'count': 22503, 'locations': 6}, {'country': 'US', 'name': '019', 'city': '019', 'count': 2112, 'locations': 1}, {'country': 'US', 'name': '037', 'city': '037', 'count': 27072, 'locations': 23}, {'country': 'US', 'name': '039', 'city': '039', 'count': 1140, 'locations': 1}, {'country': 'US', 'name': '047', 'city': '047', 'count': 24708, 'locations': 4}, {'country': 'US', 'name': '051', 'city': '051', 'count': 990, 'locations': 7}, {'country': 'US', 'name': '077', 'city': '077', 'count': 9982, 'locations': 1}, {'country': 'CH', 'name': 'Aargau', 'city': 'Aargau', 'count': 12162, 'locations': 1}, {'country': 'MX', 'name': 'Abasolo', 'city': 'Abasolo', 'count': 1095, 'locations': 1}, {'country': 'US', 'name': 'ABBEVILLE', 'city': 'ABBEVILLE', 'count': 4619, 'locations': 1}, {'country': 'GB', 'name': 'Aberdeen', 'city': 'Aberdeen', 'count': 603548, 'locations': 3}, {'country': 'US', 'name': 'Aberdeen', 'city': 'Aberdeen', 'count': 153094, 'locations': 2}, {'country': 'CI', 'name': 'Abidjan', 'city': 'Abidjan', 'count': 52212, 'locations': 1}, {'country': 'AE', 'name': 'Abu Dhabi', 'city': 'Abu Dhabi', 'count': 173857, 'locations': 1}, {'country': 'GH', 'name': 'Accra', 'city': 'Accra', 'count': 50587, 'locations': 12}, {'country': 'ES', 'name': 'A Coruña', 'city': 'A Coruña', 'count': 1606054, 'locations': 24}, {'country': 'US', 'name': 'ADA', 'city': 'ADA', 'count': 59050, 'locations': 1}, {'country': 'US', 'name': 'ADAIR', 'city': 'ADAIR', 'count': 420032, 'locations': 1}, {'country': 'US', 'name': 'ADAMS', 'city': 'ADAMS', 'count': 264645, 'locations': 3}, {'country': 'TR', 'name': 'Adana', 'city': 'Adana', 'count': 597445, 'locations': 6}, {'country': 'ET', 'name': 'Addis Ababa', 'city': 'Addis Ababa', 'count': 100779, 'locations': 1}, {'country': 'AU', 'name': 'Adelaide', 'city': 'Adelaide', 'count': 516319, 'locations': 8}, {'country': 'US', 'name': 'Adrian', 'city': 'Adrian', 'count': 166724, 'locations': 1}, {'country': 'GB', 'name': 'Adur', 'city': 'Adur', 'count': 29061, 'locations': 1}, {'country': 'MK', 'name': 'Aerodrom Municipality', 'city': 'Aerodrom Municipality', 'count': 468329, 'locations': 1}, {'country': 'IN', 'name': 'Agartala', 'city': 'Agartala', 'count': 130557, 'locations': 4}, {'country': 'IN', 'name': 'Agra', 'city': 'Agra', 'count': 1048832, 'locations': 10}, {'country': 'TR', 'name': 'Ağrı', 'city': 'Ağrı', 'count': 385782, 'locations': 2}, {'country': 'MX', 'name': 'Aguascalientes', 'city': 'Aguascalientes', 'count': 79680, 'locations': 2}, {'country': 'IN', 'name': 'Ahmedabad', 'city': 'Ahmedabad', 'count': 1351326, 'locations': 18}, {'country': 'FR', 'name': 'Ain', 'city': 'Ain', 'count': 540027, 'locations': 2}, {'country': 'FR', 'name': 'AIR BREIZH', 'city': 'AIR BREIZH', 'count': 158918, 'locations': 5}, {'country': 'FR', 'name': 'AIR NORMAND', 'city': 'AIR NORMAND', 'count': 364, 'locations': 2}, {'country': 'FR', 'name': 'AIR PACA', 'city': 'AIR PACA', 'count': 16617, 'locations': 6}, {'country': 'FR', 'name': 'AIRPARIF', 'city': 'AIRPARIF', 'count': 170398, 'locations': 3}, {'country': 'FR', 'name': 'AIR PAYS DE LA LOIRE', 'city': 'AIR PAYS DE LA LOIRE', 'count': 924, 'locations': 1}, {'country': 'FR', 'name': 'AIR RHONE ALPES', 'city': 'AIR RHONE ALPES', 'count': 71, 'locations': 4}, {'country': 'FR', 'name': 'Aisne', 'city': 'Aisne', 'count': 361232, 'locations': 3}, {'country': 'IN', 'name': 'Aizawl', 'city': 'Aizawl', 'count': 198612, 'locations': 2}, {'country': 'IN', 'name': 'Ajmer', 'city': 'Ajmer', 'count': 787697, 'locations': 4}, {'country': 'US', 'name': 'Akron', 'city': 'Akron', 'count': 497791, 'locations': 4}, {'country': 'IS', 'name': 'Akureyri', 'city': 'Akureyri', 'count': 91005, 'locations': 1}, {'country': 'US', 'name': 'ALACHUA', 'city': 'ALACHUA', 'count': 28920, 'locations': 1}, {'country': 'US', 'name': 'ALAMEDA', 'city': 'ALAMEDA', 'count': 380112, 'locations': 1}, {'country': 'RO', 'name': 'Alba', 'city': 'Alba', 'count': 237275, 'locations': 3}, {'country': 'ES', 'name': 'Albacete', 'city': 'Albacete', 'count': 278586, 'locations': 1}, {'country': 'US', 'name': 'Albany', 'city': 'Albany', 'count': 57176, 'locations': 1}, {'country': 'US', 'name': 'Albany-Lebanon', 'city': 'Albany-Lebanon', 'count': 189606, 'locations': 2}, {'country': 'US', 'name': 'Albany-Schenectady-Troy', 'city': 'Albany-Schenectady-Troy', 'count': 228192, 'locations': 3}, {'country': 'CA', 'name': 'ALBERTA', 'city': 'ALBERTA', 'count': 4764852, 'locations': 42}, {'country': 'US', 'name': 'Albuquerque', 'city': 'Albuquerque', 'count': 1715552, 'locations': 7}, {'country': 'IT', 'name': 'Alessandria', 'city': 'Alessandria', 'count': 189982, 'locations': 3}, {'country': 'NO', 'name': 'Ålesund', 'city': 'Ålesund', 'count': 308387, 'locations': 3}, {'country': 'US', 'name': 'ALEXANDER', 'city': 'ALEXANDER', 'count': 107759, 'locations': 1}, {'country': 'IT', 'name': 'ALFONSINE', 'city': 'ALFONSINE', 'count': 105236, 'locations': 1}, {'country': 'AU', 'name': 'Alfredton Fire', 'city': 'Alfredton Fire', 'count': 294, 'locations': 2}, {'country': 'DZ', 'name': 'Algiers', 'city': 'Algiers', 'count': 71676, 'locations': 1}, {'country': 'ES', 'name': 'Alicante/Alacant', 'city': 'Alicante/Alacant', 'count': 1818837, 'locations': 10}, {'country': 'US', 'name': 'Allegan', 'city': 'Allegan', 'count': 100610, 'locations': 1}, {'country': 'US', 'name': 'ALLEGANY', 'city': 'ALLEGANY', 'count': 92984, 'locations': 2}, {'country': 'US', 'name': 'Allentown-Bethlehem-Easton', 'city': 'Allentown-Bethlehem-Easton', 'count': 388746, 'locations': 3}, {'country': 'FR', 'name': 'Allier', 'city': 'Allier', 'count': 348670, 'locations': 3}, {'country': 'ES', 'name': 'Almeria', 'city': 'Almeria', 'count': 1003782, 'locations': 1}, {'country': 'ES', 'name': 'Almería', 'city': 'Almería', 'count': 2754940, 'locations': 14}, {'country': 'MX', 'name': 'Almoloya de Juárez', 'city': 'Almoloya de Juárez', 'count': 6687, 'locations': 1}, {'country': 'FR', 'name': 'Alpes-de-Haute-Provence', 'city': 'Alpes-de-Haute-Provence', 'count': 492416, 'locations': 2}, {'country': 'FR', 'name': 'Alpes-Maritimes', 'city': 'Alpes-Maritimes', 'count': 1441285, 'locations': 10}, {'country': 'CL', 'name': 'Alto Hospicio', 'city': 'Alto Hospicio', 'count': 99412, 'locations': 3}, {'country': 'AU', 'name': 'Altona North', 'city': 'Altona North', 'count': 59853, 'locations': 1}, {'country': 'AU', 'name': 'Altona North 1', 'city': 'Altona North 1', 'count': 243, 'locations': 1}, {'country': 'AU', 'name': 'Altona North 2', 'city': 'Altona North 2', 'count': 234, 'locations': 1}, {'country': 'US', 'name': 'Altoona', 'city': 'Altoona', 'count': 183420, 'locations': 1}, {'country': 'MX', 'name': 'Álvaro Obregón', 'city': 'Álvaro Obregón', 'count': 70678, 'locations': 1}, {'country': 'IN', 'name': 'Alwar', 'city': 'Alwar', 'count': 825476, 'locations': 3}, {'country': 'LT', 'name': 'Alytus', 'city': 'Alytus', 'count': 24536, 'locations': 1}, {'country': 'US', 'name': 'AMADOR', 'city': 'AMADOR', 'count': 92100, 'locations': 2}, {'country': 'IN', 'name': 'Amaravati', 'city': 'Amaravati', 'count': 658372, 'locations': 2}, {'country': 'US', 'name': 'Amarillo', 'city': 'Amarillo', 'count': 94885, 'locations': 2}, {'country': 'TR', 'name': 'Amasya', 'city': 'Amasya', 'count': 384218, 'locations': 4}, {'country': 'IN', 'name': 'Ambala', 'city': 'Ambala', 'count': 518066, 'locations': 2}, {'country': 'BR', 'name': 'Americana', 'city': 'Americana', 'count': 94360, 'locations': 2}, {'country': 'US', 'name': 'Americus', 'city': 'Americus', 'count': 70637, 'locations': 1}, {'country': 'US', 'name': 'Ames', 'city': 'Ames', 'count': 4773, 'locations': 1}, {'country': 'JO', 'name': 'Amman', 'city': 'Amman', 'count': 60846, 'locations': 1}, {'country': 'TH', 'name': 'Amnat Charoen', 'city': 'Amnat Charoen', 'count': 38352, 'locations': 3}, {'country': 'IN', 'name': 'Amritsar', 'city': 'Amritsar', 'count': 943984, 'locations': 2}, {'country': 'NL', 'name': 'Amsterdam', 'city': 'Amsterdam', 'count': 3678861, 'locations': 14}, {'country': 'AT', 'name': 'Amt der K�rntner Landesregierung', 'city': 'Amt der K�rntner Landesregierung', 'count': 6050, 'locations': 4}, {'country': 'AT', 'name': 'Amt der Nieder�sterreichischen Landesregierung', 'city': 'Amt der Nieder�sterreichischen Landesregierung', 'count': 7584, 'locations': 1}, {'country': 'AT', 'name': 'Amt der Ober�sterreichischen Landesregierung', 'city': 'Amt der Ober�sterreichischen Landesregierung', 'count': 13233, 'locations': 1}, {'country': 'AT', 'name': 'Amt der Salzburger Landesregierung', 'city': 'Amt der Salzburger Landesregierung', 'count': 11376, 'locations': 1}, {'country': 'AT', 'name': 'Amt der Steierm�rkischen Landesregierung', 'city': 'Amt der Steierm�rkischen Landesregierung', 'count': 34109, 'locations': 3}, {'country': 'US', 'name': 'Anchorage', 'city': 'Anchorage', 'count': 392749, 'locations': 3}, {'country': 'US', 'name': 'ANCHORAGE', 'city': 'ANCHORAGE', 'count': 2484, 'locations': 1}, {'country': 'IT', 'name': 'Ancona', 'city': 'Ancona', 'count': 774976, 'locations': 5}, {'country': 'CL', 'name': 'Andacollo', 'city': 'Andacollo', 'count': 208392, 'locations': 4}, {'country': 'US', 'name': 'Anderson', 'city': 'Anderson', 'count': 240625, 'locations': 3}, {'country': 'US', 'name': 'ANDERSON', 'city': 'ANDERSON', 'count': 94780, 'locations': 2}, {'country': 'US', 'name': 'ANDREW', 'city': 'ANDREW', 'count': 66138, 'locations': 1}, {'country': 'TR', 'name': 'Ankara', 'city': 'Ankara', 'count': 890806, 'locations': 9}]}\n"
     ]
    }
   ],
   "source": [
    "print(a.json())"
   ]
  },
  {
   "cell_type": "markdown",
   "id": "1c84cf69",
   "metadata": {},
   "source": [
    "## how to filter base on any parameter"
   ]
  },
  {
   "cell_type": "code",
   "execution_count": 14,
   "id": "ef1e8a98",
   "metadata": {},
   "outputs": [
    {
     "name": "stdout",
     "output_type": "stream",
     "text": [
      "200\n"
     ]
    }
   ],
   "source": [
    "b=requests.get('https://docs.openaq.org/v1/cities',params={'country':'FR','limit':4}) # we have to parameter is the form of key value pair\n",
    "print(b.status_code)"
   ]
  },
  {
   "cell_type": "code",
   "execution_count": 15,
   "id": "82fbdaba",
   "metadata": {},
   "outputs": [
    {
     "name": "stdout",
     "output_type": "stream",
     "text": [
      "{'meta': {'name': 'openaq-api', 'license': 'CC BY 4.0d', 'website': 'https://u50g7n0cbj.execute-api.us-east-1.amazonaws.com/', 'page': 1, 'limit': 4, 'found': 117}, 'results': [{'country': 'FR', 'name': 'Ain', 'city': 'Ain', 'count': 540027, 'locations': 2}, {'country': 'FR', 'name': 'AIR BREIZH', 'city': 'AIR BREIZH', 'count': 158918, 'locations': 5}, {'country': 'FR', 'name': 'AIR NORMAND', 'city': 'AIR NORMAND', 'count': 364, 'locations': 2}, {'country': 'FR', 'name': 'AIR PACA', 'city': 'AIR PACA', 'count': 16617, 'locations': 6}]}\n"
     ]
    }
   ],
   "source": [
    "print(b.json())"
   ]
  },
  {
   "cell_type": "code",
   "execution_count": 17,
   "id": "0a22d47d",
   "metadata": {},
   "outputs": [
    {
     "name": "stdout",
     "output_type": "stream",
     "text": [
      "https://docs.openaq.org/v1/cities?country=FR&limit=4\n"
     ]
    }
   ],
   "source": [
    "print(b.url)"
   ]
  },
  {
   "cell_type": "markdown",
   "id": "614a9635",
   "metadata": {},
   "source": [
    "# api for nasa image\n"
   ]
  },
  {
   "cell_type": "code",
   "execution_count": 19,
   "id": "99b6b651",
   "metadata": {},
   "outputs": [
    {
     "name": "stdout",
     "output_type": "stream",
     "text": [
      "403\n"
     ]
    }
   ],
   "source": [
    "c=requests.get('https://api.nasa.gov/planetary/apod') # some type of api required to give parameter\n",
    "print(c.status_code)"
   ]
  },
  {
   "cell_type": "code",
   "execution_count": 21,
   "id": "76c13554",
   "metadata": {},
   "outputs": [
    {
     "name": "stdout",
     "output_type": "stream",
     "text": [
      "200\n",
      "https://api.nasa.gov/planetary/apod?api_key=DEMO_KEY\n"
     ]
    }
   ],
   "source": [
    "c=requests.get('https://api.nasa.gov/planetary/apod',params={'api_key':'DEMO_KEY'}) \n",
    "print(c.status_code)\n",
    "print(c.url)"
   ]
  },
  {
   "cell_type": "code",
   "execution_count": null,
   "id": "8d57b933",
   "metadata": {},
   "outputs": [],
   "source": []
  }
 ],
 "metadata": {
  "kernelspec": {
   "display_name": "Python 3 (ipykernel)",
   "language": "python",
   "name": "python3"
  },
  "language_info": {
   "codemirror_mode": {
    "name": "ipython",
    "version": 3
   },
   "file_extension": ".py",
   "mimetype": "text/x-python",
   "name": "python",
   "nbconvert_exporter": "python",
   "pygments_lexer": "ipython3",
   "version": "3.9.7"
  }
 },
 "nbformat": 4,
 "nbformat_minor": 5
}
