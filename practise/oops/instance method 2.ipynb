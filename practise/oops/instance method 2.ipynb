{
 "cells": [
  {
   "cell_type": "code",
   "execution_count": 18,
   "id": "e8e61f98",
   "metadata": {},
   "outputs": [],
   "source": [
    "class student:\n",
    "    # class attribute\n",
    "    student_size=30\n",
    "    teacher=\"raj\"\n",
    "    #instance method (method inside the class)\n",
    "    \n",
    "    def printhello(self): \n",
    "        print(\"hello\")\n",
    "    \n",
    "    def print(self,str):\n",
    "        print(str)\n",
    "        \n",
    "    def printname(self): \n",
    "        print(self.name) \n",
    "    def addname(self,name):\n",
    "        print(name)# it will print but not save in dict\n",
    "        self.name=name #it will save on obj dict\n",
    "        \n",
    "    def test(self):\n",
    "        #print(student_size) # when we call this method using s1.test() it will give the error because it check the \n",
    "        # local value but local value is not there(class value is not local value) so\n",
    "        print(student.student_size)\n",
    "s1=student()\n",
    "s2=student()\n"
   ]
  },
  {
   "cell_type": "code",
   "execution_count": 11,
   "id": "f71fc3a3",
   "metadata": {},
   "outputs": [
    {
     "name": "stdout",
     "output_type": "stream",
     "text": [
      "mohit\n",
      "{'name': 'mohit'}\n"
     ]
    }
   ],
   "source": [
    "s1.addname(\"mohit\")#-----> created instance value\n",
    "print(s1.__dict__)"
   ]
  },
  {
   "cell_type": "code",
   "execution_count": 12,
   "id": "db672181",
   "metadata": {},
   "outputs": [
    {
     "name": "stdout",
     "output_type": "stream",
     "text": [
      "abc\n",
      "{'name': 'abc'}\n"
     ]
    }
   ],
   "source": [
    "s1.addname(\"abc\") #------> updated instance value\n",
    "print(s1.__dict__)\n",
    "# we we call the instance method with new value the old value is updated"
   ]
  },
  {
   "cell_type": "code",
   "execution_count": 19,
   "id": "f79cb8d6",
   "metadata": {},
   "outputs": [
    {
     "name": "stdout",
     "output_type": "stream",
     "text": [
      "30\n"
     ]
    }
   ],
   "source": [
    "# when we are calling test method  for student size using obj s1 it will check the dict of s1 but in dict there is no\n",
    "# any attribute of student_size so it give error\n",
    "\n",
    "# to overcome while printing we have to use classname.classattribute\n",
    "\n",
    "s1.test()"
   ]
  }
 ],
 "metadata": {
  "kernelspec": {
   "display_name": "Python 3 (ipykernel)",
   "language": "python",
   "name": "python3"
  },
  "language_info": {
   "codemirror_mode": {
    "name": "ipython",
    "version": 3
   },
   "file_extension": ".py",
   "mimetype": "text/x-python",
   "name": "python",
   "nbconvert_exporter": "python",
   "pygments_lexer": "ipython3",
   "version": "3.9.7"
  }
 },
 "nbformat": 4,
 "nbformat_minor": 5
}
