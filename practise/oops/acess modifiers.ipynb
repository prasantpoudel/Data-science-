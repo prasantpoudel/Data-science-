{
 "cells": [
  {
   "cell_type": "markdown",
   "id": "733e7da5",
   "metadata": {},
   "source": [
    "## acess type\n",
    "## private---->inside class\n",
    "## public--->anywhere\n",
    "## protected ----> less strcicted than private and less loose than public"
   ]
  },
  {
   "cell_type": "markdown",
   "id": "fc167c97",
   "metadata": {},
   "source": [
    "to make private we have to use __(two underscore before the property) and for protected _(one underscore)"
   ]
  },
  {
   "cell_type": "code",
   "execution_count": 3,
   "id": "8fd73f01",
   "metadata": {},
   "outputs": [],
   "source": [
    "class student:\n",
    "    # class attribute\n",
    "    student_size=30\n",
    "    teacher=\"raj\"\n",
    "    \n",
    "    # in default all are public type\n",
    "    \n",
    "    def __init__(self,name,age,roll=10):\n",
    "        self.__name=name  #now name is privated type\n",
    "        self.age=age\n",
    "        self.roll=roll\n",
    "      \n",
    "    \n",
    "    \n",
    "    def printhello(self): \n",
    "        print(\"hello\")\n",
    "    \n",
    "    def print(self,str):\n",
    "        print(str)\n",
    "        \n",
    "    def printname(self): \n",
    "        print(self.__name) \n",
    "    def addname(self,name):\n",
    "        print(name)# it will print but not save in dict\n",
    "        self.name=name #it will save on obj dict\n",
    "        \n",
    "    def test(self):\n",
    "        print(student.student_size)\n",
    "\n",
    "# now we have to pass name,age and roll as aargument\n",
    "s1=student(\"prasant\",21,69)\n",
    "s2=student(\"jj\",22,70)\n",
    "s3=student(\"pp\",10)"
   ]
  },
  {
   "cell_type": "code",
   "execution_count": 4,
   "id": "d0298e9c",
   "metadata": {},
   "outputs": [
    {
     "name": "stdout",
     "output_type": "stream",
     "text": [
      "21\n"
     ]
    }
   ],
   "source": [
    "print(s1.age)"
   ]
  },
  {
   "cell_type": "code",
   "execution_count": 5,
   "id": "3d13c66a",
   "metadata": {},
   "outputs": [
    {
     "ename": "AttributeError",
     "evalue": "'student' object has no attribute 'name'",
     "output_type": "error",
     "traceback": [
      "\u001b[0;31m---------------------------------------------------------------------------\u001b[0m",
      "\u001b[0;31mAttributeError\u001b[0m                            Traceback (most recent call last)",
      "\u001b[0;32m/var/folders/ny/9v084qqs5bv3c8gmyggl1ypc0000gn/T/ipykernel_50225/2416388422.py\u001b[0m in \u001b[0;36m<module>\u001b[0;34m\u001b[0m\n\u001b[0;32m----> 1\u001b[0;31m \u001b[0mprint\u001b[0m\u001b[0;34m(\u001b[0m\u001b[0ms1\u001b[0m\u001b[0;34m.\u001b[0m\u001b[0mname\u001b[0m\u001b[0;34m)\u001b[0m\u001b[0;34m\u001b[0m\u001b[0;34m\u001b[0m\u001b[0m\n\u001b[0m",
      "\u001b[0;31mAttributeError\u001b[0m: 'student' object has no attribute 'name'"
     ]
    }
   ],
   "source": [
    "print(s1.name)\n",
    "# we cann't acess name outside of the class"
   ]
  },
  {
   "cell_type": "markdown",
   "id": "28d25c1d",
   "metadata": {},
   "source": [
    "## how to access private property \n",
    "we can done using help of public method because it present in same class"
   ]
  },
  {
   "cell_type": "code",
   "execution_count": 9,
   "id": "b6f1c940",
   "metadata": {},
   "outputs": [],
   "source": [
    "class student:\n",
    "    # class attribute\n",
    "    student_size=30\n",
    "    teacher=\"raj\"\n",
    "    \n",
    "    # in default all are public type\n",
    "    \n",
    "    def __init__(self,name,age,roll=10):\n",
    "        self.__name=name  #now name is privated type\n",
    "        self.age=age\n",
    "        self.roll=roll\n",
    "      \n",
    "    def getname(self): # a public method is added to get the name from the private class\n",
    "        return self.__name\n",
    "    \n",
    "    def setname(self,name):# a method to change the name\n",
    "        self.__name=name\n",
    "    \n",
    "   \n",
    "\n",
    "# now we have to pass name,age and roll as aargument\n",
    "s1=student(\"prasant\",21,69)\n",
    "s2=student(\"jj\",22,70)\n",
    "s3=student(\"pp\",10)"
   ]
  },
  {
   "cell_type": "code",
   "execution_count": 10,
   "id": "fc4c86cf",
   "metadata": {},
   "outputs": [
    {
     "name": "stdout",
     "output_type": "stream",
     "text": [
      "prasant 21 69\n",
      "abc 21 69\n"
     ]
    }
   ],
   "source": [
    "print(s1.getname(),s1.age,s1.roll)\n",
    "s1.setname(\"abc\")\n",
    "print(s1.getname(),s1.age,s1.roll)\n",
    "\n",
    "#here prasant is changes to abc because i call the set name function"
   ]
  },
  {
   "cell_type": "markdown",
   "id": "d515e431",
   "metadata": {},
   "source": [
    "## if we are acessing the private property using public method what is the use of making private instead of making public \n",
    "\n",
    "## so we can validate the user for the changing the name or acessing the public method"
   ]
  },
  {
   "cell_type": "code",
   "execution_count": 12,
   "id": "a3f5ee5b",
   "metadata": {},
   "outputs": [],
   "source": [
    "class student:\n",
    "    # class attribute\n",
    "    student_size=30\n",
    "    teacher=\"raj\"\n",
    "    \n",
    "    # in default all are public type\n",
    "    \n",
    "    def __init__(self,name,age,roll=10):\n",
    "        self.__name=name  \n",
    "        self.age=age\n",
    "        self.roll=roll\n",
    "      \n",
    "    def getname(self): \n",
    "        return self.__name\n",
    "    \n",
    "    def setname(self,name,passw):\n",
    "        if passw!=123:\n",
    "            return\n",
    "        self.__name=name\n",
    "    \n",
    "   \n",
    "\n",
    "\n",
    "s1=student(\"prasant\",21,69)\n",
    "s2=student(\"jj\",22,70)\n",
    "s3=student(\"pp\",10)"
   ]
  },
  {
   "cell_type": "code",
   "execution_count": 13,
   "id": "2a512e2a",
   "metadata": {},
   "outputs": [
    {
     "name": "stdout",
     "output_type": "stream",
     "text": [
      "prasant 21 69\n"
     ]
    }
   ],
   "source": [
    "s1.setname(\"abc\",234)\n",
    "print(s1.getname(),s1.age,s1.roll)\n",
    "# the name is not changes because password is incorrected"
   ]
  },
  {
   "cell_type": "code",
   "execution_count": 14,
   "id": "ae009493",
   "metadata": {},
   "outputs": [
    {
     "name": "stdout",
     "output_type": "stream",
     "text": [
      "abc 21 69\n"
     ]
    }
   ],
   "source": [
    "s1.setname(\"abc\",123)\n",
    "print(s1.getname(),s1.age,s1.roll)\n",
    "#now name has been changes"
   ]
  },
  {
   "cell_type": "markdown",
   "id": "bc4946df",
   "metadata": {},
   "source": [
    "## how to acess private property directly\n",
    "process name---->name mangliy\n",
    "## objectname._clssname__property #method"
   ]
  },
  {
   "cell_type": "code",
   "execution_count": 15,
   "id": "4c22aa44",
   "metadata": {},
   "outputs": [
    {
     "name": "stdout",
     "output_type": "stream",
     "text": [
      "abc\n"
     ]
    }
   ],
   "source": [
    "print(s1._student__name)\n",
    "#here we can acess name directly"
   ]
  }
 ],
 "metadata": {
  "kernelspec": {
   "display_name": "Python 3 (ipykernel)",
   "language": "python",
   "name": "python3"
  },
  "language_info": {
   "codemirror_mode": {
    "name": "ipython",
    "version": 3
   },
   "file_extension": ".py",
   "mimetype": "text/x-python",
   "name": "python",
   "nbconvert_exporter": "python",
   "pygments_lexer": "ipython3",
   "version": "3.9.7"
  }
 },
 "nbformat": 4,
 "nbformat_minor": 5
}
