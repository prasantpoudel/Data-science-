{
 "cells": [
  {
   "cell_type": "markdown",
   "id": "f15bfc43",
   "metadata": {},
   "source": [
    "# constructer   def__init__(self):"
   ]
  },
  {
   "cell_type": "code",
   "execution_count": 2,
   "id": "66269918",
   "metadata": {},
   "outputs": [],
   "source": [
    "class student:\n",
    "    # class attribute\n",
    "    student_size=30\n",
    "    teacher=\"raj\"\n",
    "    #instance method \n",
    "    \n",
    "    # default constructer\n",
    "    def __init__(self):\n",
    "        self.name=\"prasant\"\n",
    "        self.age=21\n",
    "        self.roll=69\n",
    "       #it will be the default value of every object\n",
    "    \n",
    "    \n",
    "    def printhello(self): \n",
    "        print(\"hello\")\n",
    "    \n",
    "    def print(self,str):\n",
    "        print(str)\n",
    "        \n",
    "    def printname(self): \n",
    "        print(self.name) \n",
    "    def addname(self,name):\n",
    "        print(name)# it will print but not save in dict\n",
    "        self.name=name #it will save on obj dict\n",
    "        \n",
    "    def test(self):\n",
    "        print(student.student_size)\n",
    "s1=student()\n",
    "s2=student()\n"
   ]
  },
  {
   "cell_type": "code",
   "execution_count": 3,
   "id": "fb0ad794",
   "metadata": {},
   "outputs": [
    {
     "name": "stdout",
     "output_type": "stream",
     "text": [
      "{'name': 'prasant', 'age': 21, 'roll': 69}\n",
      "{'name': 'prasant', 'age': 21, 'roll': 69}\n"
     ]
    }
   ],
   "source": [
    "# def __init__(self):\n",
    "#         self.name=\"prasant\"\n",
    "#         self.age=21\n",
    "#         self.roll=69\n",
    "\n",
    "print(s1.__dict__)\n",
    "print(s2.__dict__)\n",
    " \n",
    "# for s1 and s2 it will be same so we don't want this so"
   ]
  },
  {
   "cell_type": "markdown",
   "id": "e077f29a",
   "metadata": {},
   "source": [
    "# passing argument when creating obj"
   ]
  },
  {
   "cell_type": "code",
   "execution_count": 10,
   "id": "5a9581d1",
   "metadata": {},
   "outputs": [],
   "source": [
    "class student:\n",
    "    # class attribute\n",
    "    student_size=30\n",
    "    teacher=\"raj\"\n",
    "    #instance method \n",
    "    \n",
    "    # default constructer\n",
    "    def __init__(self,name,age,roll=11): #creating default value # we are hoping while creating obj three argument will be pass\n",
    "        self.name=name\n",
    "        self.age=age\n",
    "        self.roll=roll\n",
    "# now we have to pass name,age and roll as aargument\n",
    "s1=student(\"prasant\",21,69)\n",
    "s2=student(\"jj\",22,70)\n",
    "s3=student(\"pp\",10) #roll number will take default value of 11"
   ]
  },
  {
   "cell_type": "code",
   "execution_count": 11,
   "id": "583614b1",
   "metadata": {},
   "outputs": [
    {
     "name": "stdout",
     "output_type": "stream",
     "text": [
      "{'name': 'prasant', 'age': 21, 'roll': 69}\n",
      "{'name': 'jj', 'age': 22, 'roll': 70}\n",
      "{'name': 'pp', 'age': 10, 'roll': 11}\n"
     ]
    }
   ],
   "source": [
    "print(s1.__dict__)\n",
    "print(s2.__dict__)\n",
    "print(s3.__dict__)"
   ]
  }
 ],
 "metadata": {
  "kernelspec": {
   "display_name": "Python 3 (ipykernel)",
   "language": "python",
   "name": "python3"
  },
  "language_info": {
   "codemirror_mode": {
    "name": "ipython",
    "version": 3
   },
   "file_extension": ".py",
   "mimetype": "text/x-python",
   "name": "python",
   "nbconvert_exporter": "python",
   "pygments_lexer": "ipython3",
   "version": "3.9.7"
  }
 },
 "nbformat": 4,
 "nbformat_minor": 5
}
