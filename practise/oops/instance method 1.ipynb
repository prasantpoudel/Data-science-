{
 "cells": [
  {
   "cell_type": "markdown",
   "id": "79749bb1",
   "metadata": {},
   "source": [
    "# isntance method"
   ]
  },
  {
   "cell_type": "code",
   "execution_count": 13,
   "id": "0d95ff67",
   "metadata": {},
   "outputs": [],
   "source": [
    "class student:\n",
    "    # class attribute\n",
    "    student_size=30\n",
    "    teacher=\"raj\"\n",
    "    #instance method (method inside the class)\n",
    "    \n",
    "    def printhello(self): # we have to give(pass) self argument because while calling this function default object is pass\n",
    "        print(\"hello\")\n",
    "    \n",
    "    def print(self,str):\n",
    "        print(str)\n",
    "        \n",
    "    def printname(self): # if we want to print object attribute than we have to use self.attribute_name \n",
    "        name=\"abc\"  # we are creating local variable \n",
    "        print(self.name) #to print value present in obj\n",
    "        print(name)  #to print local variable\n",
    "s1=student()\n",
    "s2=student()\n",
    "\n"
   ]
  },
  {
   "cell_type": "code",
   "execution_count": 5,
   "id": "f1780415",
   "metadata": {},
   "outputs": [
    {
     "name": "stdout",
     "output_type": "stream",
     "text": [
      "hello\n",
      "hi\n"
     ]
    }
   ],
   "source": [
    "s1.printhello()\n",
    "s1.print(\"hi\")"
   ]
  },
  {
   "cell_type": "markdown",
   "id": "5ca18acc",
   "metadata": {},
   "source": [
    "### if we want to call the instance fuction using class then we have to pass one obj explicitly"
   ]
  },
  {
   "cell_type": "code",
   "execution_count": 7,
   "id": "87291a18",
   "metadata": {},
   "outputs": [
    {
     "name": "stdout",
     "output_type": "stream",
     "text": [
      "hello\n",
      "hi\n"
     ]
    }
   ],
   "source": [
    "student.printhello(s1)\n",
    "student.print(s1,\"hi\")"
   ]
  },
  {
   "cell_type": "markdown",
   "id": "af977c1b",
   "metadata": {},
   "source": [
    "## printing object attribute using instance method"
   ]
  },
  {
   "cell_type": "code",
   "execution_count": 15,
   "id": "24dc337a",
   "metadata": {},
   "outputs": [],
   "source": [
    "s1.name=\"prasant\""
   ]
  },
  {
   "cell_type": "code",
   "execution_count": 16,
   "id": "8c63cba3",
   "metadata": {},
   "outputs": [
    {
     "name": "stdout",
     "output_type": "stream",
     "text": [
      "prasant\n",
      "abc\n"
     ]
    }
   ],
   "source": [
    "s1.printname()\n",
    "# if will name the method present is class and first it create local value of name attribute\n",
    "# for first it check either in object contain the value of name (self.name) help to print global value\n",
    "# and only name argument help to present to print local value"
   ]
  }
 ],
 "metadata": {
  "kernelspec": {
   "display_name": "Python 3 (ipykernel)",
   "language": "python",
   "name": "python3"
  },
  "language_info": {
   "codemirror_mode": {
    "name": "ipython",
    "version": 3
   },
   "file_extension": ".py",
   "mimetype": "text/x-python",
   "name": "python",
   "nbconvert_exporter": "python",
   "pygments_lexer": "ipython3",
   "version": "3.9.7"
  }
 },
 "nbformat": 4,
 "nbformat_minor": 5
}
