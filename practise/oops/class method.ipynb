{
 "cells": [
  {
   "cell_type": "code",
   "execution_count": 1,
   "id": "7f750dc8",
   "metadata": {},
   "outputs": [],
   "source": [
    "class student:\n",
    "    # class attribute\n",
    "    __student_size=30  #making class attribute private\n",
    "    teacher=\"raj\"\n",
    "    \n",
    "    # in default all are public type\n",
    "    \n",
    "    def __init__(self,name,age,roll=10):\n",
    "        self.__name=name  \n",
    "        self.age=age\n",
    "        self.roll=roll\n",
    "      \n",
    "    def getname(self): \n",
    "        return self.__name\n",
    "    \n",
    "    def setname(self,name,passw):\n",
    "        if passw!=123:\n",
    "            return\n",
    "        self.__name=name\n",
    "    \n",
    "   \n",
    "\n",
    "\n",
    "s1=student(\"prasant\",21,69)\n",
    "s2=student(\"jj\",22,70)\n",
    "s3=student(\"pp\",10)"
   ]
  },
  {
   "cell_type": "code",
   "execution_count": 2,
   "id": "cdded6fc",
   "metadata": {},
   "outputs": [
    {
     "name": "stdout",
     "output_type": "stream",
     "text": [
      "30\n"
     ]
    }
   ],
   "source": [
    "#how to access\n",
    "print(student._student__student_size)\n",
    "#but this is not a good way of doing so we make a method"
   ]
  },
  {
   "cell_type": "code",
   "execution_count": 3,
   "id": "440c0ff8",
   "metadata": {},
   "outputs": [],
   "source": [
    "class student:\n",
    "    # class attribute\n",
    "    __student_size=30  #making class attribute private\n",
    "    teacher=\"raj\"\n",
    "    \n",
    "   \n",
    "    def getTotalStudent(self):  #<-------- if we want to access inside function anything related to class we have to \n",
    "        return student.__student_size # define class name\n",
    "    \n",
    "    def __init__(self,name,age,roll=10):\n",
    "        self.__name=name  \n",
    "        self.age=age\n",
    "        self.roll=roll\n",
    "      \n",
    "    def getname(self): \n",
    "        return self.__name\n",
    "    \n",
    "    def setname(self,name,passw):\n",
    "        if passw!=123:\n",
    "            return\n",
    "        self.__name=name\n",
    "    \n",
    "   \n",
    "\n",
    "\n",
    "s1=student(\"prasant\",21,69)\n",
    "s2=student(\"jj\",22,70)\n",
    "s3=student(\"pp\",10)"
   ]
  },
  {
   "cell_type": "code",
   "execution_count": 5,
   "id": "779110a6",
   "metadata": {},
   "outputs": [
    {
     "name": "stdout",
     "output_type": "stream",
     "text": [
      "30\n",
      "30\n"
     ]
    }
   ],
   "source": [
    "print(s1.getTotalStudent())\n",
    "print(student.getTotalStudent(s1)) #we are accessing class attribute so better to class using class name"
   ]
  },
  {
   "cell_type": "code",
   "execution_count": 11,
   "id": "387091e7",
   "metadata": {},
   "outputs": [],
   "source": [
    "class student:\n",
    "    # class attribute\n",
    "    __student_size=30  #making class attribute private\n",
    "    teacher=\"raj\"\n",
    "    \n",
    "    @classmethod  # <--decorator this tell that this method is related to class method\n",
    "    def getTotalStudent(cls):   #cls means class as a argument\n",
    "        return student.__student_size # define class name\n",
    "    \n",
    "    def __init__(self,name,age,roll=10):\n",
    "        self.__name=name  \n",
    "        self.age=age\n",
    "        self.roll=roll\n",
    "      \n",
    "    def getname(self): \n",
    "        return self.__name\n",
    "    \n",
    "    def setname(self,name,passw):\n",
    "        if passw!=123:\n",
    "            return\n",
    "        self.__name=name\n",
    "    \n",
    "   \n",
    "\n",
    "\n",
    "s1=student(\"prasant\",21,69)\n",
    "s2=student(\"jj\",22,70)\n",
    "s3=student(\"pp\",10)"
   ]
  },
  {
   "cell_type": "code",
   "execution_count": 12,
   "id": "8247243d",
   "metadata": {},
   "outputs": [
    {
     "name": "stdout",
     "output_type": "stream",
     "text": [
      "30\n"
     ]
    }
   ],
   "source": [
    "print(student.getTotalStudent())  #no need to pass the self argument because @classmethod deonte the method is \n",
    "# releated to class"
   ]
  },
  {
   "cell_type": "markdown",
   "id": "87b8ee98",
   "metadata": {},
   "source": [
    "## factory method and static method"
   ]
  },
  {
   "cell_type": "code",
   "execution_count": null,
   "id": "f1de72d5",
   "metadata": {},
   "outputs": [],
   "source": []
  }
 ],
 "metadata": {
  "kernelspec": {
   "display_name": "Python 3 (ipykernel)",
   "language": "python",
   "name": "python3"
  },
  "language_info": {
   "codemirror_mode": {
    "name": "ipython",
    "version": 3
   },
   "file_extension": ".py",
   "mimetype": "text/x-python",
   "name": "python",
   "nbconvert_exporter": "python",
   "pygments_lexer": "ipython3",
   "version": "3.9.7"
  }
 },
 "nbformat": 4,
 "nbformat_minor": 5
}
