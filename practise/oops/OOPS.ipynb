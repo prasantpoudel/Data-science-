{
 "cells": [
  {
   "cell_type": "markdown",
   "id": "54d1dbf3",
   "metadata": {},
   "source": [
    "## oops concept"
   ]
  },
  {
   "cell_type": "code",
   "execution_count": 1,
   "id": "0073c997",
   "metadata": {},
   "outputs": [
    {
     "name": "stdout",
     "output_type": "stream",
     "text": [
      "<class 'int'>\n"
     ]
    }
   ],
   "source": [
    "a=10\n",
    "print(type(a))"
   ]
  },
  {
   "cell_type": "code",
   "execution_count": 13,
   "id": "1ec9b1de",
   "metadata": {},
   "outputs": [],
   "source": [
    "# how to create class\n",
    " \n",
    "class Student:\n",
    "    pass\n",
    "# we cann't leaves class empty so we have to use pass\n",
    "\n",
    "s1=Student()\n",
    "s2=Student()\n",
    "s3=Student()\n",
    "# object is created using (.)operator where s1,s2,s3 is object name"
   ]
  },
  {
   "cell_type": "code",
   "execution_count": 14,
   "id": "5993bb46",
   "metadata": {},
   "outputs": [],
   "source": [
    "# how to use class\n",
    "#attribute is use using (.)operator with object name\n",
    "s1.name=\"prasant\"\n",
    "s1.age=21"
   ]
  },
  {
   "cell_type": "code",
   "execution_count": 15,
   "id": "6e99e38a",
   "metadata": {},
   "outputs": [],
   "source": [
    "s2.name=\"hament\""
   ]
  },
  {
   "cell_type": "code",
   "execution_count": 16,
   "id": "00acd5fc",
   "metadata": {},
   "outputs": [],
   "source": [
    "s3.age=44"
   ]
  },
  {
   "cell_type": "markdown",
   "id": "1eb1aa50",
   "metadata": {},
   "source": [
    "## how to show the object value using dict"
   ]
  },
  {
   "cell_type": "code",
   "execution_count": 17,
   "id": "6ea75774",
   "metadata": {},
   "outputs": [
    {
     "name": "stdout",
     "output_type": "stream",
     "text": [
      "{'name': 'prasant', 'age': 21}\n",
      "{'name': 'hament'}\n",
      "{'age': 44}\n"
     ]
    }
   ],
   "source": [
    "print(s1.__dict__)\n",
    "print(s2.__dict__)\n",
    "print(s3.__dict__)"
   ]
  },
  {
   "cell_type": "code",
   "execution_count": 18,
   "id": "3afbc57b",
   "metadata": {},
   "outputs": [
    {
     "data": {
      "text/plain": [
       "'prasant'"
      ]
     },
     "execution_count": 18,
     "metadata": {},
     "output_type": "execute_result"
    }
   ],
   "source": [
    "## we can acess the data using object and attribute\n",
    "s1.name"
   ]
  },
  {
   "cell_type": "code",
   "execution_count": 19,
   "id": "045709d8",
   "metadata": {},
   "outputs": [
    {
     "ename": "AttributeError",
     "evalue": "'Student' object has no attribute 'name'",
     "output_type": "error",
     "traceback": [
      "\u001b[0;31m---------------------------------------------------------------------------\u001b[0m",
      "\u001b[0;31mAttributeError\u001b[0m                            Traceback (most recent call last)",
      "\u001b[0;32m/var/folders/ny/9v084qqs5bv3c8gmyggl1ypc0000gn/T/ipykernel_48349/3905729741.py\u001b[0m in \u001b[0;36m<module>\u001b[0;34m\u001b[0m\n\u001b[1;32m      1\u001b[0m \u001b[0;31m#if we want acess the attribute which is not preasent in the object then error\u001b[0m\u001b[0;34m\u001b[0m\u001b[0;34m\u001b[0m\u001b[0m\n\u001b[0;32m----> 2\u001b[0;31m \u001b[0ms3\u001b[0m\u001b[0;34m.\u001b[0m\u001b[0mname\u001b[0m\u001b[0;34m\u001b[0m\u001b[0;34m\u001b[0m\u001b[0m\n\u001b[0m",
      "\u001b[0;31mAttributeError\u001b[0m: 'Student' object has no attribute 'name'"
     ]
    }
   ],
   "source": [
    "#if we want acess the attribute which is not preasent in the object then error\n",
    "s3.name"
   ]
  },
  {
   "cell_type": "code",
   "execution_count": 20,
   "id": "800126d4",
   "metadata": {},
   "outputs": [
    {
     "name": "stdout",
     "output_type": "stream",
     "text": [
      "<class '__main__.student'>\n"
     ]
    }
   ],
   "source": [
    "print(student)"
   ]
  },
  {
   "cell_type": "markdown",
   "id": "3f94989b",
   "metadata": {},
   "source": [
    "# inbuilt function"
   ]
  },
  {
   "cell_type": "code",
   "execution_count": 22,
   "id": "12db715a",
   "metadata": {},
   "outputs": [
    {
     "name": "stdout",
     "output_type": "stream",
     "text": [
      "True\n",
      "False\n"
     ]
    }
   ],
   "source": [
    "# to check the attribute present in any object(hasattribute)\n",
    "# return boolean value\n",
    "print(hasattr(s1,'name'))\n",
    "print(hasattr(s3,'name'))"
   ]
  },
  {
   "cell_type": "code",
   "execution_count": null,
   "id": "f715f0fa",
   "metadata": {},
   "outputs": [],
   "source": [
    "## another fuction\n",
    "# setattr(obj,attr,value)   to set the value\n",
    "# delattr(obj,attr)         to delete value\n",
    "# getattr(obj,attr,def_value(optional))   to get the value"
   ]
  },
  {
   "cell_type": "code",
   "execution_count": 25,
   "id": "139b1eba",
   "metadata": {},
   "outputs": [
    {
     "name": "stdout",
     "output_type": "stream",
     "text": [
      "prasant\n",
      "101\n"
     ]
    }
   ],
   "source": [
    "print(getattr(s1,\"name\"))\n",
    "# if attribute is not present is object then i will create and given default value \n",
    "# if we didn't give default value than it will give error\n",
    "print(getattr(s1,\"roll\",101))\n"
   ]
  },
  {
   "cell_type": "code",
   "execution_count": 32,
   "id": "dec3068e",
   "metadata": {},
   "outputs": [
    {
     "name": "stdout",
     "output_type": "stream",
     "text": [
      "{'age': 44, 'roll': 102}\n"
     ]
    }
   ],
   "source": [
    "setattr(s3,\"roll\",102)\n",
    "print(s3.__dict__)"
   ]
  },
  {
   "cell_type": "code",
   "execution_count": 33,
   "id": "0d959d7d",
   "metadata": {},
   "outputs": [
    {
     "name": "stdout",
     "output_type": "stream",
     "text": [
      "{'age': 44}\n"
     ]
    }
   ],
   "source": [
    "delattr(s3,\"roll\")\n",
    "print(s3.__dict__)"
   ]
  },
  {
   "cell_type": "markdown",
   "id": "96250d90",
   "metadata": {},
   "source": [
    "# adding class attribute"
   ]
  },
  {
   "cell_type": "code",
   "execution_count": 36,
   "id": "9cc1a073",
   "metadata": {},
   "outputs": [
    {
     "name": "stdout",
     "output_type": "stream",
     "text": [
      "{'__module__': '__main__', 'student_size': 30, 'teacher': 'raj', '__dict__': <attribute '__dict__' of 'student' objects>, '__weakref__': <attribute '__weakref__' of 'student' objects>, '__doc__': None}\n"
     ]
    }
   ],
   "source": [
    "class student:\n",
    "    # class attribute\n",
    "    student_size=30\n",
    "    teacher=\"raj\"\n",
    "s1=student()\n",
    "\n",
    "print(student.__dict__)"
   ]
  },
  {
   "cell_type": "code",
   "execution_count": 39,
   "id": "6d0548e4",
   "metadata": {},
   "outputs": [
    {
     "name": "stdout",
     "output_type": "stream",
     "text": [
      "30\n",
      "30\n"
     ]
    }
   ],
   "source": [
    "#another way of showing output\n",
    "print(student.student_size)\n",
    "\n",
    "print(s1.student_size)\n",
    "#every object inherit the class attribute and value but it is not print in dict\n"
   ]
  },
  {
   "cell_type": "code",
   "execution_count": 35,
   "id": "20504885",
   "metadata": {},
   "outputs": [
    {
     "name": "stdout",
     "output_type": "stream",
     "text": [
      "{}\n"
     ]
    }
   ],
   "source": [
    "print(s1.__dict__)\n",
    "# output is empty because we didn't added any instance attribute(object)\n",
    "\n",
    "# we can acess the class attribute but is is not visible in dict"
   ]
  },
  {
   "cell_type": "code",
   "execution_count": 40,
   "id": "145a51f2",
   "metadata": {},
   "outputs": [],
   "source": [
    "# also we can update the class attribut value\n",
    "student.student_size=50\n"
   ]
  },
  {
   "cell_type": "code",
   "execution_count": 41,
   "id": "465fe4aa",
   "metadata": {},
   "outputs": [
    {
     "name": "stdout",
     "output_type": "stream",
     "text": [
      "50\n",
      "50\n"
     ]
    }
   ],
   "source": [
    "print(student.student_size)\n",
    "\n",
    "print(s1.student_size)"
   ]
  },
  {
   "cell_type": "markdown",
   "id": "1f4dce98",
   "metadata": {},
   "source": [
    "## individual update the class attribute value affect for only that object"
   ]
  },
  {
   "cell_type": "code",
   "execution_count": 42,
   "id": "b994d05d",
   "metadata": {},
   "outputs": [
    {
     "name": "stdout",
     "output_type": "stream",
     "text": [
      "50\n",
      "10\n"
     ]
    }
   ],
   "source": [
    "s1.student_size=10\n",
    "\n",
    "print(student.student_size)\n",
    "\n",
    "print(s1.student_size)\n",
    "# the update value is affected for only s1 attribute because we use object to update"
   ]
  },
  {
   "cell_type": "code",
   "execution_count": 43,
   "id": "622249a6",
   "metadata": {},
   "outputs": [
    {
     "name": "stdout",
     "output_type": "stream",
     "text": [
      "{'student_size': 10}\n"
     ]
    }
   ],
   "source": [
    "print(s1.__dict__)\n",
    "# as soon as we update the class attribute value using object it will refelect in that object dict"
   ]
  },
  {
   "cell_type": "code",
   "execution_count": null,
   "id": "88eafd98",
   "metadata": {},
   "outputs": [],
   "source": []
  }
 ],
 "metadata": {
  "kernelspec": {
   "display_name": "Python 3 (ipykernel)",
   "language": "python",
   "name": "python3"
  },
  "language_info": {
   "codemirror_mode": {
    "name": "ipython",
    "version": 3
   },
   "file_extension": ".py",
   "mimetype": "text/x-python",
   "name": "python",
   "nbconvert_exporter": "python",
   "pygments_lexer": "ipython3",
   "version": "3.9.7"
  }
 },
 "nbformat": 4,
 "nbformat_minor": 5
}
